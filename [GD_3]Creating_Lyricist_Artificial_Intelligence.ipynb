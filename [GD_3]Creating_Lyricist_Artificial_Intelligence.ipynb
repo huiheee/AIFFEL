{
  "nbformat": 4,
  "nbformat_minor": 0,
  "metadata": {
    "colab": {
      "provenance": []
    },
    "kernelspec": {
      "name": "python3",
      "display_name": "Python 3"
    },
    "language_info": {
      "name": "python"
    }
  },
  "cells": [
    {
      "cell_type": "markdown",
      "source": [
        "# 작사가 인공지능 만들기"
      ],
      "metadata": {
        "id": "WhewE1ufC5RK"
      }
    },
    {
      "cell_type": "code",
      "execution_count": null,
      "metadata": {
        "id": "aYkEKiHtCCHA"
      },
      "outputs": [],
      "source": []
    }
  ]
}