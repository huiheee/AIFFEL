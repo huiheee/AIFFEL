{
  "nbformat": 4,
  "nbformat_minor": 0,
  "metadata": {
    "colab": {
      "provenance": []
    },
    "kernelspec": {
      "name": "python3",
      "display_name": "Python 3"
    },
    "language_info": {
      "name": "python"
    }
  },
  "cells": [
    {
      "cell_type": "markdown",
      "source": [
        "# Rock Paper Scissors\n",
        "\n",
        "1. 이미지 분류기 모델이 성공적으로 만들어졌는가?\t\n",
        "  학습과정이 정상적으로 수행되었으며, 학습 결과에 대한 그래프를 시각화(ex. train acc / train loss / val acc / val loss 등) 해 보았음\n",
        "\n",
        "2. 오버피팅을 극복하기 위한 적절한 시도가 있었는가?\t\n",
        "  오버피팅 극복을 위하여 데이터셋의 다양성, 정규화 등을 2가지 이상 시도해보았음 \n",
        "\n",
        "3. 분류모델의 test accuracy가 기준 이상 높게 나왔는가?\t\n",
        "  60% 이상 도달하였음\n"
      ],
      "metadata": {
        "id": "xrjhFE1smP5o"
      }
    },
    {
      "cell_type": "code",
      "execution_count": null,
      "metadata": {
        "colab": {
          "base_uri": "https://localhost:8080/"
        },
        "id": "8Pf5xnLNdGDx",
        "outputId": "eb4bdaec-133c-415f-dd85-c64e410ec62f"
      },
      "outputs": [
        {
          "output_type": "stream",
          "name": "stdout",
          "text": [
            "2.12.0\n",
            "1.22.4\n"
          ]
        }
      ],
      "source": [
        "import tensorflow as tf\n",
        "import numpy as np\n",
        "\n",
        "print(tf.__version__)\n",
        "print(np.__version__)"
      ]
    },
    {
      "cell_type": "code",
      "source": [
        "from PIL import Image\n",
        "import glob\n",
        "import os"
      ],
      "metadata": {
        "id": "VVmZFSrJdVUL"
      },
      "execution_count": null,
      "outputs": []
    },
    {
      "cell_type": "markdown",
      "source": [
        "## 데이터 불러오기 및 처리"
      ],
      "metadata": {
        "id": "wn21DgL7_EI4"
      }
    },
    {
      "cell_type": "code",
      "source": [
        "def resize_images(img_path):\n",
        "\timages=glob.glob(img_path + \"/*.jpg\")  \n",
        "    \n",
        "\tprint(len(images), \" images to be resized.\")\n",
        "\n",
        "    # 파일마다 모두 28x28 사이즈로 바꾸어 저장\n",
        "\ttarget_size=(28,28)\n",
        "\tfor img in images:\n",
        "\t\told_img=Image.open(img)\n",
        "\t\tnew_img=old_img.resize(target_size,Image.ANTIALIAS)\n",
        "\t\tnew_img.save(img, \"JPEG\")\n",
        "    \n",
        "\tprint(len(images), \" images resized.\")\n",
        "\t\n",
        "# 가위 이미지가 저장된 디렉토리 아래의 모든 jpg 파일을 읽어들여서\n",
        "image_dir_path = \"/content/drive/MyDrive/Colab Notebooks/AIFFEL/Data/rock_scissor_paper/scissor/scissor\"\n",
        "resize_images(image_dir_path)\n",
        "\n",
        "# 바위 이미지가 저장된 디렉토리 아래의 모든 jpg 파일을 읽어들여서\n",
        "image_dir_path = '/content/drive/MyDrive/Colab Notebooks/AIFFEL/Data/rock_scissor_paper/rock/rock'\n",
        "resize_images(image_dir_path)\n",
        "\n",
        "# 보 이미지가 저장된 디렉토리 아래의 모든 jpg 파일을 읽어들여서\n",
        "image_dir_path = '/content/drive/MyDrive/Colab Notebooks/AIFFEL/Data/rock_scissor_paper/paper'\n",
        "resize_images(image_dir_path)"
      ],
      "metadata": {
        "colab": {
          "base_uri": "https://localhost:8080/"
        },
        "id": "ZxfCSr4bdVOV",
        "outputId": "614df5ba-eb0f-4a6e-dc3f-036787076ce2"
      },
      "execution_count": null,
      "outputs": [
        {
          "output_type": "stream",
          "name": "stdout",
          "text": [
            "100  images to be resized.\n",
            "100  images resized.\n",
            "100  images to be resized.\n",
            "100  images resized.\n",
            "100  images to be resized.\n",
            "100  images resized.\n"
          ]
        }
      ]
    },
    {
      "cell_type": "code",
      "source": [
        "import numpy as np\n",
        "\n",
        "def load_data(img_path, number_of_data=300):  # 가위바위보 이미지 개수 총합에 주의하세요.\n",
        "    # 가위 : 0, 바위 : 1, 보 : 2\n",
        "    img_size=28\n",
        "    color=3\n",
        "    #이미지 데이터와 라벨(가위 : 0, 바위 : 1, 보 : 2) 데이터를 담을 행렬(matrix) 영역을 생성합니다.\n",
        "    imgs=np.zeros(number_of_data*img_size*img_size*color,dtype=np.int32).reshape(number_of_data,img_size,img_size,color)\n",
        "    labels=np.zeros(number_of_data,dtype=np.int32)\n",
        "\n",
        "    idx=0\n",
        "    for file in glob.iglob(img_path+'/scissor/*.jpg'):\n",
        "        img = np.array(Image.open(file),dtype=np.int32)\n",
        "        imgs[idx,:,:,:]=img    # 데이터 영역에 이미지 행렬을 복사\n",
        "        labels[idx]=0   # 가위 : 0\n",
        "        idx=idx+1\n",
        "\n",
        "    for file in glob.iglob(img_path+'/rock/*.jpg'):\n",
        "        img = np.array(Image.open(file),dtype=np.int32)\n",
        "        imgs[idx,:,:,:]=img    # 데이터 영역에 이미지 행렬을 복사\n",
        "        labels[idx]=1   # 바위 : 1\n",
        "        idx=idx+1  \n",
        "    \n",
        "    for file in glob.iglob(img_path+'/paper/*.jpg'):\n",
        "        img = np.array(Image.open(file),dtype=np.int32)\n",
        "        imgs[idx,:,:,:]=img    # 데이터 영역에 이미지 행렬을 복사\n",
        "        labels[idx]=2   # 보 : 2\n",
        "        idx=idx+1\n",
        "        \n",
        "    print(\"학습데이터(x_train)의 이미지 개수는\", idx,\"입니다.\")\n",
        "    return imgs, labels\n",
        "\n",
        "image_dir_path = \"/content/drive/MyDrive/Colab Notebooks/AIFFEL/Data/rock_scissor_paper\"\n",
        "(x_train, y_train)=load_data(image_dir_path)\n",
        "x_train_norm = x_train/255.0   # 입력은 0~1 사이의 값으로 정규화\n",
        "\n",
        "print(\"x_train shape: {}\".format(x_train.shape))\n",
        "print(\"y_train shape: {}\".format(y_train.shape))"
      ],
      "metadata": {
        "colab": {
          "base_uri": "https://localhost:8080/"
        },
        "id": "czKHfhFcdVLr",
        "outputId": "d2fc2a50-1007-400f-b6d5-c43cff89ab10"
      },
      "execution_count": null,
      "outputs": [
        {
          "output_type": "stream",
          "name": "stdout",
          "text": [
            "학습데이터(x_train)의 이미지 개수는 300 입니다.\n",
            "x_train shape: (300, 28, 28, 3)\n",
            "y_train shape: (300,)\n"
          ]
        }
      ]
    },
    {
      "cell_type": "code",
      "source": [
        "plt.imshow(x_train[0])\n",
        "print('라벨: ', y_train[0])"
      ],
      "metadata": {
        "colab": {
          "base_uri": "https://localhost:8080/",
          "height": 448
        },
        "id": "uUrn9q06dVJa",
        "outputId": "a1161952-d738-461b-f108-e4c16ff591d4"
      },
      "execution_count": null,
      "outputs": [
        {
          "output_type": "stream",
          "name": "stdout",
          "text": [
            "라벨:  0\n"
          ]
        },
        {
          "output_type": "display_data",
          "data": {
            "text/plain": [
              "<Figure size 640x480 with 1 Axes>"
            ],
            "image/png": "[encoded data removed]"
          },
          "metadata": {}
        }
      ]
    },
    {
      "cell_type": "markdown",
      "source": [
        "## 모델 구성"
      ],
      "metadata": {
        "id": "wX5sM6H1lgP1"
      }
    },
    {
      "cell_type": "code",
      "source": [
        "import tensorflow as tf\n",
        "from tensorflow import keras\n",
        "from tensorflow.keras import models, layers, optimizers, utils\n",
        "import matplotlib.pyplot as plt\n",
        "import numpy as np\n",
        "\n",
        "# model을 직접 만들어 보세요.\n",
        "# Hint! model의 입력/출력부에 특히 유의해 주세요. 가위바위보 데이터셋은 MNIST 데이터셋과 어떤 점이 달라졌나요?\n",
        "model=keras.models.Sequential()\n",
        "model.add(keras.layers.Conv2D(16, (3,3), activation='relu', input_shape=(28,28,3)))\n",
        "model.add(keras.layers.MaxPool2D(2,2))\n",
        "model.add(keras.layers.Conv2D(32, (3,3), activation='relu'))\n",
        "model.add(keras.layers.MaxPooling2D((2,2)))\n",
        "model.add(keras.layers.Flatten())\n",
        "model.add(keras.layers.Dense(32, activation='relu'))\n",
        "model.add(keras.layers.Dense(10, activation='softmax'))\n",
        "\n",
        "print('Model에 추가된 Layer 개수: ', len(model.layers))\n",
        "\n",
        "model.summary()"
      ],
      "metadata": {
        "colab": {
          "base_uri": "https://localhost:8080/"
        },
        "id": "HmP_P2addVHZ",
        "outputId": "db26f091-1c83-43fb-f2c4-24ba89d6c4b3"
      },
      "execution_count": null,
      "outputs": [
        {
          "output_type": "stream",
          "name": "stdout",
          "text": [
            "Model에 추가된 Layer 개수:  7\n",
            "Model: \"sequential_1\"\n",
            "_________________________________________________________________\n",
            " Layer (type)                Output Shape              Param #   \n",
            "=================================================================\n",
            " conv2d_2 (Conv2D)           (None, 26, 26, 16)        448       \n",
            "                                                                 \n",
            " max_pooling2d_2 (MaxPooling  (None, 13, 13, 16)       0         \n",
            " 2D)                                                             \n",
            "                                                                 \n",
            " conv2d_3 (Conv2D)           (None, 11, 11, 32)        4640      \n",
            "                                                                 \n",
            " max_pooling2d_3 (MaxPooling  (None, 5, 5, 32)         0         \n",
            " 2D)                                                             \n",
            "                                                                 \n",
            " flatten_1 (Flatten)         (None, 800)               0         \n",
            "                                                                 \n",
            " dense_2 (Dense)             (None, 32)                25632     \n",
            "                                                                 \n",
            " dense_3 (Dense)             (None, 10)                330       \n",
            "                                                                 \n",
            "=================================================================\n",
            "Total params: 31,050\n",
            "Trainable params: 31,050\n",
            "Non-trainable params: 0\n",
            "_________________________________________________________________\n"
          ]
        }
      ]
    },
    {
      "cell_type": "markdown",
      "source": [
        "## 모델 학습"
      ],
      "metadata": {
        "id": "kPPaMDUZlmPK"
      }
    },
    {
      "cell_type": "code",
      "source": [
        "# model을 학습시키는 코드를 직접 작성해 보세요.\n",
        "# Hint! model.compile()과 model.fit()을 사용해 봅시다.\n",
        "model.compile(optimizer='rmsprop',\n",
        "             loss='sparse_categorical_crossentropy',\n",
        "             metrics=['accuracy'])\n",
        "\n",
        "check_point_cb = callbacks.ModelCheckpoint('keras_reuters_model.h5', save_best_only=True)\n",
        "early_stopping_cb = callbacks.EarlyStopping(patience=3,\n",
        "                                            monitor='val_loss',\n",
        "                                            restore_best_weights=True)\n",
        "\n",
        "history = model.fit(x_train_norm,\n",
        "                    y_train,\n",
        "                    epochs=40,\n",
        "                    batch_size=64,\n",
        "                    validation_data=(x_val, y_val),\n",
        "                    callbacks=[check_point_cb, early_stopping_cb])"
      ],
      "metadata": {
        "colab": {
          "base_uri": "https://localhost:8080/"
        },
        "id": "xcyTs7vadVFT",
        "outputId": "f375398c-f6dd-424a-cc5e-d7a9bd06b508"
      },
      "execution_count": null,
      "outputs": [
        {
          "output_type": "stream",
          "name": "stdout",
          "text": [
            "Epoch 1/40\n",
            "5/5 [==============================] - 1s 37ms/step - loss: 2.1589 - accuracy: 0.2800\n",
            "Epoch 2/40\n",
            "5/5 [==============================] - 0s 32ms/step - loss: 1.5141 - accuracy: 0.3333\n",
            "Epoch 3/40\n",
            "5/5 [==============================] - 0s 33ms/step - loss: 1.1280 - accuracy: 0.4233\n",
            "Epoch 4/40\n",
            "5/5 [==============================] - 0s 33ms/step - loss: 0.9749 - accuracy: 0.5833\n",
            "Epoch 5/40\n",
            "5/5 [==============================] - 0s 34ms/step - loss: 0.9238 - accuracy: 0.5833\n",
            "Epoch 6/40\n",
            "5/5 [==============================] - 0s 32ms/step - loss: 0.8093 - accuracy: 0.6400\n",
            "Epoch 7/40\n",
            "5/5 [==============================] - 0s 34ms/step - loss: 0.7062 - accuracy: 0.7200\n",
            "Epoch 8/40\n",
            "5/5 [==============================] - 0s 35ms/step - loss: 0.6371 - accuracy: 0.6800\n",
            "Epoch 9/40\n",
            "5/5 [==============================] - 0s 34ms/step - loss: 0.6494 - accuracy: 0.6667\n",
            "Epoch 10/40\n",
            "5/5 [==============================] - 0s 34ms/step - loss: 0.5871 - accuracy: 0.6767\n",
            "Epoch 11/40\n",
            "5/5 [==============================] - 0s 33ms/step - loss: 0.5506 - accuracy: 0.6700\n",
            "Epoch 12/40\n",
            "5/5 [==============================] - 0s 32ms/step - loss: 0.5752 - accuracy: 0.6567\n",
            "Epoch 13/40\n",
            "5/5 [==============================] - 0s 34ms/step - loss: 0.5046 - accuracy: 0.7400\n",
            "Epoch 14/40\n",
            "5/5 [==============================] - 0s 31ms/step - loss: 0.5883 - accuracy: 0.6700\n",
            "Epoch 15/40\n",
            "5/5 [==============================] - 0s 19ms/step - loss: 0.4845 - accuracy: 0.7233\n",
            "Epoch 16/40\n",
            "5/5 [==============================] - 0s 31ms/step - loss: 0.5973 - accuracy: 0.6433\n",
            "Epoch 17/40\n",
            "5/5 [==============================] - 0s 19ms/step - loss: 0.4971 - accuracy: 0.6767\n",
            "Epoch 18/40\n",
            "5/5 [==============================] - 0s 18ms/step - loss: 0.5293 - accuracy: 0.6533\n",
            "Epoch 19/40\n",
            "5/5 [==============================] - 0s 20ms/step - loss: 0.4983 - accuracy: 0.6933\n",
            "Epoch 20/40\n",
            "5/5 [==============================] - 0s 19ms/step - loss: 0.4673 - accuracy: 0.7300\n",
            "Epoch 21/40\n",
            "5/5 [==============================] - 0s 20ms/step - loss: 0.4480 - accuracy: 0.7433\n",
            "Epoch 22/40\n",
            "5/5 [==============================] - 0s 21ms/step - loss: 0.4870 - accuracy: 0.7367\n",
            "Epoch 23/40\n",
            "5/5 [==============================] - 0s 19ms/step - loss: 0.5114 - accuracy: 0.7033\n",
            "Epoch 24/40\n",
            "5/5 [==============================] - 0s 20ms/step - loss: 0.4826 - accuracy: 0.7200\n",
            "Epoch 25/40\n",
            "5/5 [==============================] - 0s 19ms/step - loss: 0.5831 - accuracy: 0.6733\n",
            "Epoch 26/40\n",
            "5/5 [==============================] - 0s 18ms/step - loss: 0.4761 - accuracy: 0.6967\n",
            "Epoch 27/40\n",
            "5/5 [==============================] - 0s 19ms/step - loss: 0.4562 - accuracy: 0.7133\n",
            "Epoch 28/40\n",
            "5/5 [==============================] - 0s 19ms/step - loss: 0.5408 - accuracy: 0.6433\n",
            "Epoch 29/40\n",
            "5/5 [==============================] - 0s 19ms/step - loss: 0.4694 - accuracy: 0.6967\n",
            "Epoch 30/40\n",
            "5/5 [==============================] - 0s 19ms/step - loss: 0.4376 - accuracy: 0.7633\n",
            "Epoch 31/40\n",
            "5/5 [==============================] - 0s 20ms/step - loss: 0.4691 - accuracy: 0.6933\n",
            "Epoch 32/40\n",
            "5/5 [==============================] - 0s 20ms/step - loss: 0.4515 - accuracy: 0.7200\n",
            "Epoch 33/40\n",
            "5/5 [==============================] - 0s 19ms/step - loss: 0.4868 - accuracy: 0.7167\n",
            "Epoch 34/40\n",
            "5/5 [==============================] - 0s 19ms/step - loss: 0.4517 - accuracy: 0.7167\n",
            "Epoch 35/40\n",
            "5/5 [==============================] - 0s 20ms/step - loss: 0.4473 - accuracy: 0.7067\n",
            "Epoch 36/40\n",
            "5/5 [==============================] - 0s 19ms/step - loss: 0.4653 - accuracy: 0.6967\n",
            "Epoch 37/40\n",
            "5/5 [==============================] - 0s 18ms/step - loss: 0.4648 - accuracy: 0.7067\n",
            "Epoch 38/40\n",
            "5/5 [==============================] - 0s 20ms/step - loss: 0.4914 - accuracy: 0.6800\n",
            "Epoch 39/40\n",
            "5/5 [==============================] - 0s 19ms/step - loss: 0.4391 - accuracy: 0.7333\n",
            "Epoch 40/40\n",
            "5/5 [==============================] - 0s 19ms/step - loss: 0.4297 - accuracy: 0.7200\n"
          ]
        },
        {
          "output_type": "execute_result",
          "data": {
            "text/plain": [
              "<keras.callbacks.History at 0x7ff2a37834f0>"
            ]
          },
          "metadata": {},
          "execution_count": 19
        }
      ]
    },
    {
      "cell_type": "markdown",
      "source": [],
      "metadata": {
        "id": "E3uVYkAa2kH2"
      }
    },
    {
      "cell_type": "code",
      "source": [
        "# x_test, y_test를 만드는 방법은 x_train, y_train을 만드는 방법과 아주 유사합니다.\n",
        "image_dir_path = '/content/drive/MyDrive/Colab Notebooks/AIFFEL/Data/rock_scissor_paper/test_data'\n",
        "resize_images(image_dir_path)\n",
        "\n",
        "def load_data(img_path, number_of_data=300):  # 가위바위보 이미지 개수 총합에 주의하세요.\n",
        "    # 가위 : 0, 바위 : 1, 보 : 2\n",
        "    img_size=28\n",
        "    color=3\n",
        "    #이미지 데이터와 라벨(가위 : 0, 바위 : 1, 보 : 2) 데이터를 담을 행렬(matrix) 영역을 생성합니다.\n",
        "    imgs=np.zeros(number_of_data*img_size*img_size*color,dtype=np.int32).reshape(number_of_data,img_size,img_size,color)\n",
        "    labels=np.zeros(number_of_data,dtype=np.int32)\n",
        "\n",
        "    idx=0\n",
        "    for file in glob.iglob(img_path+'/scissor/*.jpg'):\n",
        "        img = np.array(Image.open(file),dtype=np.int32)\n",
        "        imgs[idx,:,:,:]=img    # 데이터 영역에 이미지 행렬을 복사\n",
        "        labels[idx]=0   # 가위 : 0\n",
        "        idx=idx+1\n",
        "\n",
        "    for file in glob.iglob(img_path+'/rock/*.jpg'):\n",
        "        img = np.array(Image.open(file),dtype=np.int32)\n",
        "        imgs[idx,:,:,:]=img    # 데이터 영역에 이미지 행렬을 복사\n",
        "        labels[idx]=1   # 바위 : 1\n",
        "        idx=idx+1  \n",
        "    \n",
        "    for file in glob.iglob(img_path+'/paper/*.jpg'):\n",
        "        img = np.array(Image.open(file),dtype=np.int32)\n",
        "        imgs[idx,:,:,:]=img    # 데이터 영역에 이미지 행렬을 복사\n",
        "        labels[idx]=2   # 보 : 2\n",
        "        idx=idx+1\n",
        "        \n",
        "    print(\"데이터(x)의 이미지 개수는\", idx,\"입니다.\")\n",
        "    return imgs, labels\n",
        "\n",
        "image_dir_path = \"/content/drive/MyDrive/Colab Notebooks/AIFFEL/Data/rock_scissor_paper/test_data\"\n",
        "(x_test, y_test)=load_data(image_dir_path)\n",
        "x_train_norm = x_train/255.0   # 입력은 0~1 사이의 값으로 정규화\n",
        "\n",
        "print(\"x_train shape: {}\".format(x_train.shape))\n",
        "print(\"y_train shape: {}\".format(y_train.shape))"
      ],
      "metadata": {
        "colab": {
          "base_uri": "https://localhost:8080/"
        },
        "outputId": "83e08b6a-09da-4edb-bfa9-cf99360b3001",
        "id": "SKVls1dG9jpt"
      },
      "execution_count": null,
      "outputs": [
        {
          "output_type": "stream",
          "name": "stdout",
          "text": [
            "0  images to be resized.\n",
            "0  images resized.\n",
            "데이터(x)의 이미지 개수는 0 입니다.\n",
            "x_train shape: (300, 28, 28, 3)\n",
            "y_train shape: (300,)\n"
          ]
        }
      ]
    },
    {
      "cell_type": "code",
      "source": [
        "# model을 평가하는 코드를 직접 작성해 보세요.\n",
        "# Hint! model.evaluate()을 사용해 봅시다.\n",
        "# [[YOUR CODE]]"
      ],
      "metadata": {
        "id": "XLbYhX3hdU-2"
      },
      "execution_count": null,
      "outputs": []
    },
    {
      "cell_type": "markdown",
      "source": [
        "시험용 데이터x_test에 대한 인식률 test accuracy가 train accuracy보다 많이 낮게 나오지는 않았나요? 만약 그렇다면 그 이유는 무엇일까요? MNIST 손글씨 데이터 때처럼 test accuracy가 train accuracy에 근접하도록 개선 방법을 찾아 봅시다."
      ],
      "metadata": {
        "id": "-G11bw-wmLin"
      }
    },
    {
      "cell_type": "code",
      "source": [],
      "metadata": {
        "id": "mfyPg-g9dU8W"
      },
      "execution_count": null,
      "outputs": []
    },
    {
      "cell_type": "code",
      "source": [],
      "metadata": {
        "id": "qYpIwm6BdU50"
      },
      "execution_count": null,
      "outputs": []
    },
    {
      "cell_type": "code",
      "source": [],
      "metadata": {
        "id": "9ImedSjMdU3x"
      },
      "execution_count": null,
      "outputs": []
    },
    {
      "cell_type": "code",
      "source": [],
      "metadata": {
        "id": "MQDqfKFrdU1S"
      },
      "execution_count": null,
      "outputs": []
    },
    {
      "cell_type": "code",
      "source": [],
      "metadata": {
        "id": "MS3QinGAdUzY"
      },
      "execution_count": null,
      "outputs": []
    },
    {
      "cell_type": "code",
      "source": [],
      "metadata": {
        "id": "EplqTxQNdUxT"
      },
      "execution_count": null,
      "outputs": []
    },
    {
      "cell_type": "code",
      "source": [],
      "metadata": {
        "id": "NeEff7WodUu-"
      },
      "execution_count": null,
      "outputs": []
    },
    {
      "cell_type": "code",
      "source": [],
      "metadata": {
        "id": "AL2D1z7ldUs-"
      },
      "execution_count": null,
      "outputs": []
    },
    {
      "cell_type": "code",
      "source": [],
      "metadata": {
        "id": "KRFPDL4ZdUrR"
      },
      "execution_count": null,
      "outputs": []
    },
    {
      "cell_type": "code",
      "source": [],
      "metadata": {
        "id": "TsjysvuRdUpM"
      },
      "execution_count": null,
      "outputs": []
    },
    {
      "cell_type": "code",
      "source": [],
      "metadata": {
        "id": "frFn4yAYdUmw"
      },
      "execution_count": null,
      "outputs": []
    },
    {
      "cell_type": "code",
      "source": [],
      "metadata": {
        "id": "sJJCynJjdUlC"
      },
      "execution_count": null,
      "outputs": []
    },
    {
      "cell_type": "code",
      "source": [],
      "metadata": {
        "id": "D9fKiCrSdUiy"
      },
      "execution_count": null,
      "outputs": []
    },
    {
      "cell_type": "code",
      "source": [],
      "metadata": {
        "id": "cjsZVWqIdUg2"
      },
      "execution_count": null,
      "outputs": []
    },
    {
      "cell_type": "code",
      "source": [],
      "metadata": {
        "id": "bEXHO2-DdUd6"
      },
      "execution_count": null,
      "outputs": []
    },
    {
      "cell_type": "code",
      "source": [],
      "metadata": {
        "id": "HafMj-L9dUbg"
      },
      "execution_count": null,
      "outputs": []
    },
    {
      "cell_type": "code",
      "source": [],
      "metadata": {
        "id": "u5V40QKEdUZv"
      },
      "execution_count": null,
      "outputs": []
    }
  ]
}