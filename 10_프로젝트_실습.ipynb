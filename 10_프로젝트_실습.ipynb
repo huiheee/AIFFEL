{
 "cells": [
  {
   "cell_type": "code",
   "execution_count": null,
   "metadata": {
    "colab": {
     "base_uri": "https://localhost:8080/",
     "height": 35
    },
    "id": "GeYlivCkPJXW",
    "outputId": "8612fdb5-9daa-4824-9bb2-c32ee0a5fe9d"
   },
   "outputs": [
    {
     "data": {
      "application/vnd.google.colaboratory.intrinsic+json": {
       "type": "string"
      },
      "text/plain": [
       "'010-39494-#####'"
      ]
     },
     "execution_count": 3,
     "metadata": {},
     "output_type": "execute_result"
    }
   ],
   "source": [
    "# 프로젝트1. 전화번호 가려주는 프로그램\n",
    "## 전화번호 형식은 010-xxxxx-xxxxx\n",
    "## 뒷번호 5자리를 #####으로 가려서 출력\n",
    "\n",
    "def hide_num(nums):\n",
    "  answer = nums.replace(nums[-5:],'#####')\n",
    "  return answer\n",
    "\n",
    "hide_num('010-39494-92918')"
   ]
  },
  {
   "cell_type": "code",
   "execution_count": null,
   "metadata": {
    "colab": {
     "base_uri": "https://localhost:8080/"
    },
    "id": "KuakNUPzQNNh",
    "outputId": "371b58d0-8f7f-4290-bfc5-2ff63753a130"
   },
   "outputs": [
    {
     "data": {
      "text/plain": [
       "[1, 456, 4, 7, 8, 9, 0, 93, 8, 0, 9, 3, 2, 45]"
      ]
     },
     "execution_count": 5,
     "metadata": {},
     "output_type": "execute_result"
    }
   ],
   "source": [
    "# 프로젝트2. 리스트 평탄화\n",
    "## 리스트 안에 중첩된 리스트들을 제거하고 풀어서 1차원의 리스트로 바꿔주기\n",
    "\n",
    "def flatten(data):\n",
    "  output = []\n",
    "  for item in data:\n",
    "    if type(item) == list:\n",
    "      output += flatten(item)\n",
    "    else:\n",
    "      output.append(item)\n",
    "  return output  ## 들여쓰기 유의하기!!\n",
    "a = [1,456,4,[7,8,9,0],93,[[8,0],9,3,2],45]\n",
    "flatten(a)"
   ]
  },
  {
   "cell_type": "code",
   "execution_count": null,
   "metadata": {
    "colab": {
     "base_uri": "https://localhost:8080/"
    },
    "id": "98ZiNd9CTEk2",
    "outputId": "f6c77f2c-74b5-49b1-ca26-eb163562ad4b"
   },
   "outputs": [
    {
     "data": {
      "text/plain": [
       "448"
      ]
     },
     "execution_count": 8,
     "metadata": {},
     "output_type": "execute_result"
    }
   ],
   "source": [
    "# 프로젝트 3. 10이하 숫자만 곱해주는함수\n",
    "## 함수안의 값이 몇개든 10이하 만 골라서 다 곱해주는 함수\n",
    "\n",
    "def mul(*value):\n",
    "  output = 1  # value 안의 값들을 곱하기 위해 초기 값 1을 설정!\n",
    "  for num in value:\n",
    "    if num <= 10:\n",
    "      output *= num\n",
    "    else:\n",
    "      pass\n",
    "  return output\n",
    "\n",
    "mul(36,6,34,11,2,7)\n",
    "mul(4,7,2,8)  ## Q. 근데 왜 위에꺼는 안나오지..?"
   ]
  }
 ],
 "metadata": {
  "colab": {
   "provenance": []
  },
  "kernelspec": {
   "display_name": "Python 3",
   "name": "python3"
  },
  "language_info": {
   "name": "python"
  }
 },
 "nbformat": 4,
 "nbformat_minor": 0
}
