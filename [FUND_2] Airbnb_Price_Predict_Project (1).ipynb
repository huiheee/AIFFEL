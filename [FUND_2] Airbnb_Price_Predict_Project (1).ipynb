{
 "cells": [
  {
   "cell_type": "markdown",
   "id": "1759e5b5",
   "metadata": {},
   "source": [
    "# Airbnb 가격 예측하기\n",
    "\n",
    "- 미국 NYC Airbnb 목록(2019)\n",
    "- 프로젝트 목적 : 가격 예측(price)\n",
    "- 제공 데이터(3개) : train_csv, test_csv, y_test(최종 채점용)\n",
    "- 평가 방식 : MSE\n",
    "\n",
    "___\n",
    "lms의 baseline에서는 mse가 51xxx.점이 나왔다. baseline score보다 점수를 낮춰보자!"
   ]
  },
  {
   "cell_type": "markdown",
   "id": "f3e7728c",
   "metadata": {},
   "source": [
    "## 1. 데이터셋"
   ]
  },
  {
   "cell_type": "code",
   "execution_count": 1,
   "id": "bae28175",
   "metadata": {},
   "outputs": [],
   "source": [
    "# 라이브러리 호출하기\n",
    "import pandas as pd\n",
    "import numpy as np\n",
    "import matplotlib.pyplot as plt\n",
    "import seaborn as sns"
   ]
  },
  {
   "cell_type": "code",
   "execution_count": 2,
   "id": "f0bd790e",
   "metadata": {},
   "outputs": [],
   "source": [
    "# 데이터 불러오기\n",
    "train = pd.read_csv('/aiffel/data/train.csv')\n",
    "test = pd.read_csv('/aiffel/data/test.csv')"
   ]
  },
  {
   "cell_type": "markdown",
   "id": "c13d291d",
   "metadata": {},
   "source": [
    "## 2. EDA (탐색적 데이터 분석)"
   ]
  },
  {
   "cell_type": "code",
   "execution_count": 3,
   "id": "da6cf63c",
   "metadata": {},
   "outputs": [
    {
     "data": {
      "text/plain": [
       "((39116, 16), (9779, 15))"
      ]
     },
     "execution_count": 3,
     "metadata": {},
     "output_type": "execute_result"
    }
   ],
   "source": [
    "# 데이터 크기\n",
    "train.shape, test.shape"
   ]
  },
  {
   "cell_type": "code",
   "execution_count": 4,
   "id": "52704f88",
   "metadata": {},
   "outputs": [
    {
     "data": {
      "text/html": [
       "<div>\n",
       "<style scoped>\n",
       "    .dataframe tbody tr th:only-of-type {\n",
       "        vertical-align: middle;\n",
       "    }\n",
       "\n",
       "    .dataframe tbody tr th {\n",
       "        vertical-align: top;\n",
       "    }\n",
       "\n",
       "    .dataframe thead th {\n",
       "        text-align: right;\n",
       "    }\n",
       "</style>\n",
       "<table border=\"1\" class=\"dataframe\">\n",
       "  <thead>\n",
       "    <tr style=\"text-align: right;\">\n",
       "      <th></th>\n",
       "      <th>id</th>\n",
       "      <th>name</th>\n",
       "      <th>host_id</th>\n",
       "      <th>host_name</th>\n",
       "      <th>neighbourhood_group</th>\n",
       "      <th>neighbourhood</th>\n",
       "      <th>latitude</th>\n",
       "      <th>longitude</th>\n",
       "      <th>room_type</th>\n",
       "      <th>price</th>\n",
       "      <th>minimum_nights</th>\n",
       "      <th>number_of_reviews</th>\n",
       "      <th>last_review</th>\n",
       "      <th>reviews_per_month</th>\n",
       "      <th>calculated_host_listings_count</th>\n",
       "      <th>availability_365</th>\n",
       "    </tr>\n",
       "  </thead>\n",
       "  <tbody>\n",
       "    <tr>\n",
       "      <th>0</th>\n",
       "      <td>14963583</td>\n",
       "      <td>Room in South Harlem near Central Park</td>\n",
       "      <td>94219511</td>\n",
       "      <td>Gilles</td>\n",
       "      <td>Manhattan</td>\n",
       "      <td>Harlem</td>\n",
       "      <td>40.80167</td>\n",
       "      <td>-73.95781</td>\n",
       "      <td>Private room</td>\n",
       "      <td>70</td>\n",
       "      <td>3</td>\n",
       "      <td>3</td>\n",
       "      <td>2019-01-01</td>\n",
       "      <td>0.09</td>\n",
       "      <td>2</td>\n",
       "      <td>0</td>\n",
       "    </tr>\n",
       "    <tr>\n",
       "      <th>1</th>\n",
       "      <td>9458704</td>\n",
       "      <td>Large 1BR Apartment, near Times Sq (2nd Floor)</td>\n",
       "      <td>49015331</td>\n",
       "      <td>Iradj</td>\n",
       "      <td>Manhattan</td>\n",
       "      <td>Hell's Kitchen</td>\n",
       "      <td>40.76037</td>\n",
       "      <td>-73.99016</td>\n",
       "      <td>Entire home/apt</td>\n",
       "      <td>240</td>\n",
       "      <td>2</td>\n",
       "      <td>64</td>\n",
       "      <td>2019-06-30</td>\n",
       "      <td>1.68</td>\n",
       "      <td>2</td>\n",
       "      <td>262</td>\n",
       "    </tr>\n",
       "    <tr>\n",
       "      <th>2</th>\n",
       "      <td>26871281</td>\n",
       "      <td>West Village Apartment</td>\n",
       "      <td>440022</td>\n",
       "      <td>Petter</td>\n",
       "      <td>Manhattan</td>\n",
       "      <td>West Village</td>\n",
       "      <td>40.73001</td>\n",
       "      <td>-74.00562</td>\n",
       "      <td>Entire home/apt</td>\n",
       "      <td>150</td>\n",
       "      <td>60</td>\n",
       "      <td>1</td>\n",
       "      <td>2019-02-07</td>\n",
       "      <td>0.20</td>\n",
       "      <td>1</td>\n",
       "      <td>0</td>\n",
       "    </tr>\n",
       "    <tr>\n",
       "      <th>3</th>\n",
       "      <td>698132</td>\n",
       "      <td>LARGE PRIVATE FLOOR IN BROOKLYN, NY</td>\n",
       "      <td>3577509</td>\n",
       "      <td>Eric</td>\n",
       "      <td>Brooklyn</td>\n",
       "      <td>Bedford-Stuyvesant</td>\n",
       "      <td>40.69128</td>\n",
       "      <td>-73.93653</td>\n",
       "      <td>Entire home/apt</td>\n",
       "      <td>85</td>\n",
       "      <td>4</td>\n",
       "      <td>239</td>\n",
       "      <td>2019-06-26</td>\n",
       "      <td>2.89</td>\n",
       "      <td>2</td>\n",
       "      <td>1</td>\n",
       "    </tr>\n",
       "    <tr>\n",
       "      <th>4</th>\n",
       "      <td>15783953</td>\n",
       "      <td>Sun-drenched apartment, 20 mins to Manhattan</td>\n",
       "      <td>12475280</td>\n",
       "      <td>George</td>\n",
       "      <td>Brooklyn</td>\n",
       "      <td>Bedford-Stuyvesant</td>\n",
       "      <td>40.68899</td>\n",
       "      <td>-73.95555</td>\n",
       "      <td>Private room</td>\n",
       "      <td>44</td>\n",
       "      <td>28</td>\n",
       "      <td>0</td>\n",
       "      <td>NaN</td>\n",
       "      <td>NaN</td>\n",
       "      <td>1</td>\n",
       "      <td>0</td>\n",
       "    </tr>\n",
       "  </tbody>\n",
       "</table>\n",
       "</div>"
      ],
      "text/plain": [
       "         id                                            name   host_id  \\\n",
       "0  14963583          Room in South Harlem near Central Park  94219511   \n",
       "1   9458704  Large 1BR Apartment, near Times Sq (2nd Floor)  49015331   \n",
       "2  26871281                          West Village Apartment    440022   \n",
       "3    698132             LARGE PRIVATE FLOOR IN BROOKLYN, NY   3577509   \n",
       "4  15783953    Sun-drenched apartment, 20 mins to Manhattan  12475280   \n",
       "\n",
       "  host_name neighbourhood_group       neighbourhood  latitude  longitude  \\\n",
       "0    Gilles           Manhattan              Harlem  40.80167  -73.95781   \n",
       "1     Iradj           Manhattan      Hell's Kitchen  40.76037  -73.99016   \n",
       "2    Petter           Manhattan        West Village  40.73001  -74.00562   \n",
       "3      Eric            Brooklyn  Bedford-Stuyvesant  40.69128  -73.93653   \n",
       "4    George            Brooklyn  Bedford-Stuyvesant  40.68899  -73.95555   \n",
       "\n",
       "         room_type  price  minimum_nights  number_of_reviews last_review  \\\n",
       "0     Private room     70               3                  3  2019-01-01   \n",
       "1  Entire home/apt    240               2                 64  2019-06-30   \n",
       "2  Entire home/apt    150              60                  1  2019-02-07   \n",
       "3  Entire home/apt     85               4                239  2019-06-26   \n",
       "4     Private room     44              28                  0         NaN   \n",
       "\n",
       "   reviews_per_month  calculated_host_listings_count  availability_365  \n",
       "0               0.09                               2                 0  \n",
       "1               1.68                               2               262  \n",
       "2               0.20                               1                 0  \n",
       "3               2.89                               2                 1  \n",
       "4                NaN                               1                 0  "
      ]
     },
     "execution_count": 4,
     "metadata": {},
     "output_type": "execute_result"
    }
   ],
   "source": [
    "# train 데이터 샘플\n",
    "train.head()"
   ]
  },
  {
   "cell_type": "markdown",
   "id": "6b1617b0",
   "metadata": {},
   "source": [
    "- train data에는 price가 추가된 것을 알 수 있다."
   ]
  },
  {
   "cell_type": "code",
   "execution_count": 5,
   "id": "2c3becd0",
   "metadata": {},
   "outputs": [
    {
     "data": {
      "text/html": [
       "<div>\n",
       "<style scoped>\n",
       "    .dataframe tbody tr th:only-of-type {\n",
       "        vertical-align: middle;\n",
       "    }\n",
       "\n",
       "    .dataframe tbody tr th {\n",
       "        vertical-align: top;\n",
       "    }\n",
       "\n",
       "    .dataframe thead th {\n",
       "        text-align: right;\n",
       "    }\n",
       "</style>\n",
       "<table border=\"1\" class=\"dataframe\">\n",
       "  <thead>\n",
       "    <tr style=\"text-align: right;\">\n",
       "      <th></th>\n",
       "      <th>id</th>\n",
       "      <th>name</th>\n",
       "      <th>host_id</th>\n",
       "      <th>host_name</th>\n",
       "      <th>neighbourhood_group</th>\n",
       "      <th>neighbourhood</th>\n",
       "      <th>latitude</th>\n",
       "      <th>longitude</th>\n",
       "      <th>room_type</th>\n",
       "      <th>minimum_nights</th>\n",
       "      <th>number_of_reviews</th>\n",
       "      <th>last_review</th>\n",
       "      <th>reviews_per_month</th>\n",
       "      <th>calculated_host_listings_count</th>\n",
       "      <th>availability_365</th>\n",
       "    </tr>\n",
       "  </thead>\n",
       "  <tbody>\n",
       "    <tr>\n",
       "      <th>0</th>\n",
       "      <td>30913224</td>\n",
       "      <td>Cozy and Sunny Room Williamsburg, Luxury Building</td>\n",
       "      <td>33771081</td>\n",
       "      <td>Rémy</td>\n",
       "      <td>Brooklyn</td>\n",
       "      <td>Williamsburg</td>\n",
       "      <td>40.70959</td>\n",
       "      <td>-73.94652</td>\n",
       "      <td>Private room</td>\n",
       "      <td>3</td>\n",
       "      <td>2</td>\n",
       "      <td>2019-05-08</td>\n",
       "      <td>0.31</td>\n",
       "      <td>1</td>\n",
       "      <td>0</td>\n",
       "    </tr>\n",
       "    <tr>\n",
       "      <th>1</th>\n",
       "      <td>971247</td>\n",
       "      <td>Sunny Artist Live/Work Apartment</td>\n",
       "      <td>5308961</td>\n",
       "      <td>Larry</td>\n",
       "      <td>Manhattan</td>\n",
       "      <td>Upper West Side</td>\n",
       "      <td>40.79368</td>\n",
       "      <td>-73.96487</td>\n",
       "      <td>Entire home/apt</td>\n",
       "      <td>3</td>\n",
       "      <td>159</td>\n",
       "      <td>2019-07-03</td>\n",
       "      <td>2.09</td>\n",
       "      <td>1</td>\n",
       "      <td>244</td>\n",
       "    </tr>\n",
       "    <tr>\n",
       "      <th>2</th>\n",
       "      <td>414801</td>\n",
       "      <td>Industrial Brooklyn Loft with Tree-Lined Windows</td>\n",
       "      <td>319077</td>\n",
       "      <td>Shell</td>\n",
       "      <td>Brooklyn</td>\n",
       "      <td>Clinton Hill</td>\n",
       "      <td>40.68722</td>\n",
       "      <td>-73.96289</td>\n",
       "      <td>Entire home/apt</td>\n",
       "      <td>1</td>\n",
       "      <td>54</td>\n",
       "      <td>2019-03-24</td>\n",
       "      <td>0.65</td>\n",
       "      <td>4</td>\n",
       "      <td>365</td>\n",
       "    </tr>\n",
       "    <tr>\n",
       "      <th>3</th>\n",
       "      <td>21815842</td>\n",
       "      <td>Spacious 2 bedroom in beautiful Clinton Hill</td>\n",
       "      <td>1931990</td>\n",
       "      <td>Yarden</td>\n",
       "      <td>Brooklyn</td>\n",
       "      <td>Clinton Hill</td>\n",
       "      <td>40.68859</td>\n",
       "      <td>-73.96035</td>\n",
       "      <td>Entire home/apt</td>\n",
       "      <td>3</td>\n",
       "      <td>2</td>\n",
       "      <td>2018-05-11</td>\n",
       "      <td>0.13</td>\n",
       "      <td>1</td>\n",
       "      <td>0</td>\n",
       "    </tr>\n",
       "    <tr>\n",
       "      <th>4</th>\n",
       "      <td>13576581</td>\n",
       "      <td>Modern Central Park Apartment close to everything</td>\n",
       "      <td>78325795</td>\n",
       "      <td>Bozhena</td>\n",
       "      <td>Manhattan</td>\n",
       "      <td>Harlem</td>\n",
       "      <td>40.80573</td>\n",
       "      <td>-73.94994</td>\n",
       "      <td>Entire home/apt</td>\n",
       "      <td>1</td>\n",
       "      <td>160</td>\n",
       "      <td>2019-06-23</td>\n",
       "      <td>4.31</td>\n",
       "      <td>3</td>\n",
       "      <td>246</td>\n",
       "    </tr>\n",
       "  </tbody>\n",
       "</table>\n",
       "</div>"
      ],
      "text/plain": [
       "         id                                               name   host_id  \\\n",
       "0  30913224  Cozy and Sunny Room Williamsburg, Luxury Building  33771081   \n",
       "1    971247                   Sunny Artist Live/Work Apartment   5308961   \n",
       "2    414801   Industrial Brooklyn Loft with Tree-Lined Windows    319077   \n",
       "3  21815842       Spacious 2 bedroom in beautiful Clinton Hill   1931990   \n",
       "4  13576581  Modern Central Park Apartment close to everything  78325795   \n",
       "\n",
       "  host_name neighbourhood_group    neighbourhood  latitude  longitude  \\\n",
       "0      Rémy            Brooklyn     Williamsburg  40.70959  -73.94652   \n",
       "1     Larry           Manhattan  Upper West Side  40.79368  -73.96487   \n",
       "2     Shell            Brooklyn     Clinton Hill  40.68722  -73.96289   \n",
       "3    Yarden            Brooklyn     Clinton Hill  40.68859  -73.96035   \n",
       "4   Bozhena           Manhattan           Harlem  40.80573  -73.94994   \n",
       "\n",
       "         room_type  minimum_nights  number_of_reviews last_review  \\\n",
       "0     Private room               3                  2  2019-05-08   \n",
       "1  Entire home/apt               3                159  2019-07-03   \n",
       "2  Entire home/apt               1                 54  2019-03-24   \n",
       "3  Entire home/apt               3                  2  2018-05-11   \n",
       "4  Entire home/apt               1                160  2019-06-23   \n",
       "\n",
       "   reviews_per_month  calculated_host_listings_count  availability_365  \n",
       "0               0.31                               1                 0  \n",
       "1               2.09                               1               244  \n",
       "2               0.65                               4               365  \n",
       "3               0.13                               1                 0  \n",
       "4               4.31                               3               246  "
      ]
     },
     "execution_count": 5,
     "metadata": {},
     "output_type": "execute_result"
    }
   ],
   "source": [
    "# test 데이터 샘플\n",
    "test.head()"
   ]
  },
  {
   "cell_type": "code",
   "execution_count": 6,
   "id": "262b5dcf",
   "metadata": {},
   "outputs": [
    {
     "data": {
      "text/html": [
       "<div>\n",
       "<style scoped>\n",
       "    .dataframe tbody tr th:only-of-type {\n",
       "        vertical-align: middle;\n",
       "    }\n",
       "\n",
       "    .dataframe tbody tr th {\n",
       "        vertical-align: top;\n",
       "    }\n",
       "\n",
       "    .dataframe thead th {\n",
       "        text-align: right;\n",
       "    }\n",
       "</style>\n",
       "<table border=\"1\" class=\"dataframe\">\n",
       "  <thead>\n",
       "    <tr style=\"text-align: right;\">\n",
       "      <th></th>\n",
       "      <th>id</th>\n",
       "      <th>name</th>\n",
       "      <th>host_id</th>\n",
       "      <th>host_name</th>\n",
       "      <th>neighbourhood_group</th>\n",
       "      <th>neighbourhood</th>\n",
       "      <th>latitude</th>\n",
       "      <th>longitude</th>\n",
       "      <th>room_type</th>\n",
       "      <th>price</th>\n",
       "      <th>minimum_nights</th>\n",
       "      <th>number_of_reviews</th>\n",
       "      <th>last_review</th>\n",
       "      <th>reviews_per_month</th>\n",
       "      <th>calculated_host_listings_count</th>\n",
       "      <th>availability_365</th>\n",
       "    </tr>\n",
       "  </thead>\n",
       "  <tbody>\n",
       "    <tr>\n",
       "      <th>0</th>\n",
       "      <td>14963583</td>\n",
       "      <td>Room in South Harlem near Central Park</td>\n",
       "      <td>94219511</td>\n",
       "      <td>Gilles</td>\n",
       "      <td>Manhattan</td>\n",
       "      <td>Harlem</td>\n",
       "      <td>40.80167</td>\n",
       "      <td>-73.95781</td>\n",
       "      <td>Private room</td>\n",
       "      <td>70</td>\n",
       "      <td>3</td>\n",
       "      <td>3</td>\n",
       "      <td>2019-01-01</td>\n",
       "      <td>0.09</td>\n",
       "      <td>2</td>\n",
       "      <td>0</td>\n",
       "    </tr>\n",
       "    <tr>\n",
       "      <th>1</th>\n",
       "      <td>9458704</td>\n",
       "      <td>Large 1BR Apartment, near Times Sq (2nd Floor)</td>\n",
       "      <td>49015331</td>\n",
       "      <td>Iradj</td>\n",
       "      <td>Manhattan</td>\n",
       "      <td>Hell's Kitchen</td>\n",
       "      <td>40.76037</td>\n",
       "      <td>-73.99016</td>\n",
       "      <td>Entire home/apt</td>\n",
       "      <td>240</td>\n",
       "      <td>2</td>\n",
       "      <td>64</td>\n",
       "      <td>2019-06-30</td>\n",
       "      <td>1.68</td>\n",
       "      <td>2</td>\n",
       "      <td>262</td>\n",
       "    </tr>\n",
       "  </tbody>\n",
       "</table>\n",
       "</div>"
      ],
      "text/plain": [
       "         id                                            name   host_id  \\\n",
       "0  14963583          Room in South Harlem near Central Park  94219511   \n",
       "1   9458704  Large 1BR Apartment, near Times Sq (2nd Floor)  49015331   \n",
       "\n",
       "  host_name neighbourhood_group   neighbourhood  latitude  longitude  \\\n",
       "0    Gilles           Manhattan          Harlem  40.80167  -73.95781   \n",
       "1     Iradj           Manhattan  Hell's Kitchen  40.76037  -73.99016   \n",
       "\n",
       "         room_type  price  minimum_nights  number_of_reviews last_review  \\\n",
       "0     Private room     70               3                  3  2019-01-01   \n",
       "1  Entire home/apt    240               2                 64  2019-06-30   \n",
       "\n",
       "   reviews_per_month  calculated_host_listings_count  availability_365  \n",
       "0               0.09                               2                 0  \n",
       "1               1.68                               2               262  "
      ]
     },
     "metadata": {},
     "output_type": "display_data"
    },
    {
     "data": {
      "text/html": [
       "<div>\n",
       "<style scoped>\n",
       "    .dataframe tbody tr th:only-of-type {\n",
       "        vertical-align: middle;\n",
       "    }\n",
       "\n",
       "    .dataframe tbody tr th {\n",
       "        vertical-align: top;\n",
       "    }\n",
       "\n",
       "    .dataframe thead th {\n",
       "        text-align: right;\n",
       "    }\n",
       "</style>\n",
       "<table border=\"1\" class=\"dataframe\">\n",
       "  <thead>\n",
       "    <tr style=\"text-align: right;\">\n",
       "      <th></th>\n",
       "      <th>id</th>\n",
       "      <th>name</th>\n",
       "      <th>host_id</th>\n",
       "      <th>host_name</th>\n",
       "      <th>neighbourhood_group</th>\n",
       "      <th>neighbourhood</th>\n",
       "      <th>latitude</th>\n",
       "      <th>longitude</th>\n",
       "      <th>room_type</th>\n",
       "      <th>minimum_nights</th>\n",
       "      <th>number_of_reviews</th>\n",
       "      <th>last_review</th>\n",
       "      <th>reviews_per_month</th>\n",
       "      <th>calculated_host_listings_count</th>\n",
       "      <th>availability_365</th>\n",
       "    </tr>\n",
       "  </thead>\n",
       "  <tbody>\n",
       "    <tr>\n",
       "      <th>0</th>\n",
       "      <td>30913224</td>\n",
       "      <td>Cozy and Sunny Room Williamsburg, Luxury Building</td>\n",
       "      <td>33771081</td>\n",
       "      <td>Rémy</td>\n",
       "      <td>Brooklyn</td>\n",
       "      <td>Williamsburg</td>\n",
       "      <td>40.70959</td>\n",
       "      <td>-73.94652</td>\n",
       "      <td>Private room</td>\n",
       "      <td>3</td>\n",
       "      <td>2</td>\n",
       "      <td>2019-05-08</td>\n",
       "      <td>0.31</td>\n",
       "      <td>1</td>\n",
       "      <td>0</td>\n",
       "    </tr>\n",
       "    <tr>\n",
       "      <th>1</th>\n",
       "      <td>971247</td>\n",
       "      <td>Sunny Artist Live/Work Apartment</td>\n",
       "      <td>5308961</td>\n",
       "      <td>Larry</td>\n",
       "      <td>Manhattan</td>\n",
       "      <td>Upper West Side</td>\n",
       "      <td>40.79368</td>\n",
       "      <td>-73.96487</td>\n",
       "      <td>Entire home/apt</td>\n",
       "      <td>3</td>\n",
       "      <td>159</td>\n",
       "      <td>2019-07-03</td>\n",
       "      <td>2.09</td>\n",
       "      <td>1</td>\n",
       "      <td>244</td>\n",
       "    </tr>\n",
       "  </tbody>\n",
       "</table>\n",
       "</div>"
      ],
      "text/plain": [
       "         id                                               name   host_id  \\\n",
       "0  30913224  Cozy and Sunny Room Williamsburg, Luxury Building  33771081   \n",
       "1    971247                   Sunny Artist Live/Work Apartment   5308961   \n",
       "\n",
       "  host_name neighbourhood_group    neighbourhood  latitude  longitude  \\\n",
       "0      Rémy            Brooklyn     Williamsburg  40.70959  -73.94652   \n",
       "1     Larry           Manhattan  Upper West Side  40.79368  -73.96487   \n",
       "\n",
       "         room_type  minimum_nights  number_of_reviews last_review  \\\n",
       "0     Private room               3                  2  2019-05-08   \n",
       "1  Entire home/apt               3                159  2019-07-03   \n",
       "\n",
       "   reviews_per_month  calculated_host_listings_count  availability_365  \n",
       "0               0.31                               1                 0  \n",
       "1               2.09                               1               244  "
      ]
     },
     "metadata": {},
     "output_type": "display_data"
    }
   ],
   "source": [
    "# 데이터 샘플\n",
    "display(train.head(2))\n",
    "display(test.head(2))"
   ]
  },
  {
   "cell_type": "code",
   "execution_count": 7,
   "id": "66ec6d27",
   "metadata": {},
   "outputs": [
    {
     "name": "stdout",
     "output_type": "stream",
     "text": [
      "<class 'pandas.core.frame.DataFrame'>\n",
      "RangeIndex: 39116 entries, 0 to 39115\n",
      "Data columns (total 16 columns):\n",
      " #   Column                          Non-Null Count  Dtype  \n",
      "---  ------                          --------------  -----  \n",
      " 0   id                              39116 non-null  int64  \n",
      " 1   name                            39104 non-null  object \n",
      " 2   host_id                         39116 non-null  int64  \n",
      " 3   host_name                       39099 non-null  object \n",
      " 4   neighbourhood_group             39116 non-null  object \n",
      " 5   neighbourhood                   39116 non-null  object \n",
      " 6   latitude                        39116 non-null  float64\n",
      " 7   longitude                       39116 non-null  float64\n",
      " 8   room_type                       39116 non-null  object \n",
      " 9   price                           39116 non-null  int64  \n",
      " 10  minimum_nights                  39116 non-null  int64  \n",
      " 11  number_of_reviews               39116 non-null  int64  \n",
      " 12  last_review                     31122 non-null  object \n",
      " 13  reviews_per_month               31122 non-null  float64\n",
      " 14  calculated_host_listings_count  39116 non-null  int64  \n",
      " 15  availability_365                39116 non-null  int64  \n",
      "dtypes: float64(3), int64(7), object(6)\n",
      "memory usage: 4.8+ MB\n"
     ]
    }
   ],
   "source": [
    "# 데이터 타입\n",
    "train.info()"
   ]
  },
  {
   "cell_type": "code",
   "execution_count": 8,
   "id": "4d133c0c",
   "metadata": {},
   "outputs": [
    {
     "data": {
      "text/plain": [
       "id                                   0\n",
       "name                                12\n",
       "host_id                              0\n",
       "host_name                           17\n",
       "neighbourhood_group                  0\n",
       "neighbourhood                        0\n",
       "latitude                             0\n",
       "longitude                            0\n",
       "room_type                            0\n",
       "price                                0\n",
       "minimum_nights                       0\n",
       "number_of_reviews                    0\n",
       "last_review                       7994\n",
       "reviews_per_month                 7994\n",
       "calculated_host_listings_count       0\n",
       "availability_365                     0\n",
       "dtype: int64"
      ]
     },
     "execution_count": 8,
     "metadata": {},
     "output_type": "execute_result"
    }
   ],
   "source": [
    "# 결측치(train)\n",
    "train.isnull().sum()"
   ]
  },
  {
   "cell_type": "code",
   "execution_count": 9,
   "id": "088788cc",
   "metadata": {},
   "outputs": [
    {
     "data": {
      "text/html": [
       "<div>\n",
       "<style scoped>\n",
       "    .dataframe tbody tr th:only-of-type {\n",
       "        vertical-align: middle;\n",
       "    }\n",
       "\n",
       "    .dataframe tbody tr th {\n",
       "        vertical-align: top;\n",
       "    }\n",
       "\n",
       "    .dataframe thead th {\n",
       "        text-align: right;\n",
       "    }\n",
       "</style>\n",
       "<table border=\"1\" class=\"dataframe\">\n",
       "  <thead>\n",
       "    <tr style=\"text-align: right;\">\n",
       "      <th></th>\n",
       "      <th></th>\n",
       "      <th></th>\n",
       "      <th></th>\n",
       "      <th></th>\n",
       "      <th></th>\n",
       "      <th></th>\n",
       "      <th></th>\n",
       "      <th></th>\n",
       "      <th></th>\n",
       "      <th></th>\n",
       "      <th></th>\n",
       "      <th></th>\n",
       "      <th></th>\n",
       "      <th></th>\n",
       "      <th></th>\n",
       "      <th>0</th>\n",
       "    </tr>\n",
       "    <tr>\n",
       "      <th>id</th>\n",
       "      <th>name</th>\n",
       "      <th>host_id</th>\n",
       "      <th>host_name</th>\n",
       "      <th>neighbourhood_group</th>\n",
       "      <th>neighbourhood</th>\n",
       "      <th>latitude</th>\n",
       "      <th>longitude</th>\n",
       "      <th>room_type</th>\n",
       "      <th>price</th>\n",
       "      <th>minimum_nights</th>\n",
       "      <th>number_of_reviews</th>\n",
       "      <th>last_review</th>\n",
       "      <th>reviews_per_month</th>\n",
       "      <th>calculated_host_listings_count</th>\n",
       "      <th>availability_365</th>\n",
       "      <th></th>\n",
       "    </tr>\n",
       "  </thead>\n",
       "  <tbody>\n",
       "    <tr>\n",
       "      <th rowspan=\"6\" valign=\"top\">False</th>\n",
       "      <th rowspan=\"3\" valign=\"top\">False</th>\n",
       "      <th rowspan=\"3\" valign=\"top\">False</th>\n",
       "      <th rowspan=\"2\" valign=\"top\">False</th>\n",
       "      <th rowspan=\"2\" valign=\"top\">False</th>\n",
       "      <th rowspan=\"2\" valign=\"top\">False</th>\n",
       "      <th rowspan=\"2\" valign=\"top\">False</th>\n",
       "      <th rowspan=\"2\" valign=\"top\">False</th>\n",
       "      <th rowspan=\"2\" valign=\"top\">False</th>\n",
       "      <th rowspan=\"2\" valign=\"top\">False</th>\n",
       "      <th rowspan=\"2\" valign=\"top\">False</th>\n",
       "      <th rowspan=\"2\" valign=\"top\">False</th>\n",
       "      <th>False</th>\n",
       "      <th>False</th>\n",
       "      <th>False</th>\n",
       "      <th>False</th>\n",
       "      <td>31103</td>\n",
       "    </tr>\n",
       "    <tr>\n",
       "      <th>True</th>\n",
       "      <th>True</th>\n",
       "      <th>False</th>\n",
       "      <th>False</th>\n",
       "      <td>7984</td>\n",
       "    </tr>\n",
       "    <tr>\n",
       "      <th>True</th>\n",
       "      <th>False</th>\n",
       "      <th>False</th>\n",
       "      <th>False</th>\n",
       "      <th>False</th>\n",
       "      <th>False</th>\n",
       "      <th>False</th>\n",
       "      <th>False</th>\n",
       "      <th>False</th>\n",
       "      <th>False</th>\n",
       "      <th>False</th>\n",
       "      <th>False</th>\n",
       "      <th>False</th>\n",
       "      <td>13</td>\n",
       "    </tr>\n",
       "    <tr>\n",
       "      <th rowspan=\"2\" valign=\"top\">True</th>\n",
       "      <th rowspan=\"2\" valign=\"top\">False</th>\n",
       "      <th rowspan=\"2\" valign=\"top\">False</th>\n",
       "      <th rowspan=\"2\" valign=\"top\">False</th>\n",
       "      <th rowspan=\"2\" valign=\"top\">False</th>\n",
       "      <th rowspan=\"2\" valign=\"top\">False</th>\n",
       "      <th rowspan=\"2\" valign=\"top\">False</th>\n",
       "      <th rowspan=\"2\" valign=\"top\">False</th>\n",
       "      <th rowspan=\"2\" valign=\"top\">False</th>\n",
       "      <th rowspan=\"2\" valign=\"top\">False</th>\n",
       "      <th rowspan=\"2\" valign=\"top\">False</th>\n",
       "      <th>False</th>\n",
       "      <th>False</th>\n",
       "      <th>False</th>\n",
       "      <th>False</th>\n",
       "      <td>6</td>\n",
       "    </tr>\n",
       "    <tr>\n",
       "      <th>True</th>\n",
       "      <th>True</th>\n",
       "      <th>False</th>\n",
       "      <th>False</th>\n",
       "      <td>6</td>\n",
       "    </tr>\n",
       "    <tr>\n",
       "      <th>False</th>\n",
       "      <th>False</th>\n",
       "      <th>True</th>\n",
       "      <th>False</th>\n",
       "      <th>False</th>\n",
       "      <th>False</th>\n",
       "      <th>False</th>\n",
       "      <th>False</th>\n",
       "      <th>False</th>\n",
       "      <th>False</th>\n",
       "      <th>False</th>\n",
       "      <th>True</th>\n",
       "      <th>True</th>\n",
       "      <th>False</th>\n",
       "      <th>False</th>\n",
       "      <td>4</td>\n",
       "    </tr>\n",
       "  </tbody>\n",
       "</table>\n",
       "</div>"
      ],
      "text/plain": [
       "                                                                                                                                                                                                                       0\n",
       "id    name  host_id host_name neighbourhood_group neighbourhood latitude longitude room_type price minimum_nights number_of_reviews last_review reviews_per_month calculated_host_listings_count availability_365       \n",
       "False False False   False     False               False         False    False     False     False False          False             False       False             False                          False             31103\n",
       "                                                                                                                                    True        True              False                          False              7984\n",
       "                    True      False               False         False    False     False     False False          False             False       False             False                          False                13\n",
       "      True  False   False     False               False         False    False     False     False False          False             False       False             False                          False                 6\n",
       "                                                                                                                                    True        True              False                          False                 6\n",
       "      False False   True      False               False         False    False     False     False False          False             True        True              False                          False                 4"
      ]
     },
     "execution_count": 9,
     "metadata": {},
     "output_type": "execute_result"
    }
   ],
   "source": [
    "a= train.isnull().value_counts()\n",
    "pd.DataFrame(a)"
   ]
  },
  {
   "cell_type": "markdown",
   "id": "1d071374",
   "metadata": {},
   "source": [
    "- name과 host_name은 서로 별개의 결측치를 보이고 last_review와 reviews_per_month는 같은 행에서의 결측치를 보이는 것을 알 수 있다.\n",
    "- name/host_name/last_review&reviews_per_month : FFF(31103)/FFT(7984)/FTF(13)/FTT(6)/TFF(6)/TFT(6)\n",
    "- last_review와 reviews_per_month는 실제로 작성하지 않는 사람이 많아 결측치는 채워줘도 될 것 같다\n",
    "- name, host_name의 결측치가 전체 데이터의 많은 부분을 차지하지 않음"
   ]
  },
  {
   "cell_type": "code",
   "execution_count": 10,
   "id": "bd04a811",
   "metadata": {},
   "outputs": [
    {
     "data": {
      "text/plain": [
       "id                                   0\n",
       "name                                 4\n",
       "host_id                              0\n",
       "host_name                            4\n",
       "neighbourhood_group                  0\n",
       "neighbourhood                        0\n",
       "latitude                             0\n",
       "longitude                            0\n",
       "room_type                            0\n",
       "minimum_nights                       0\n",
       "number_of_reviews                    0\n",
       "last_review                       2058\n",
       "reviews_per_month                 2058\n",
       "calculated_host_listings_count       0\n",
       "availability_365                     0\n",
       "dtype: int64"
      ]
     },
     "execution_count": 10,
     "metadata": {},
     "output_type": "execute_result"
    }
   ],
   "source": [
    "# 결측치(test)\n",
    "test.isnull().sum()"
   ]
  },
  {
   "cell_type": "code",
   "execution_count": 11,
   "id": "55040563",
   "metadata": {
    "scrolled": true
   },
   "outputs": [
    {
     "data": {
      "text/html": [
       "<div>\n",
       "<style scoped>\n",
       "    .dataframe tbody tr th:only-of-type {\n",
       "        vertical-align: middle;\n",
       "    }\n",
       "\n",
       "    .dataframe tbody tr th {\n",
       "        vertical-align: top;\n",
       "    }\n",
       "\n",
       "    .dataframe thead th {\n",
       "        text-align: right;\n",
       "    }\n",
       "</style>\n",
       "<table border=\"1\" class=\"dataframe\">\n",
       "  <thead>\n",
       "    <tr style=\"text-align: right;\">\n",
       "      <th></th>\n",
       "      <th></th>\n",
       "      <th></th>\n",
       "      <th></th>\n",
       "      <th></th>\n",
       "      <th></th>\n",
       "      <th></th>\n",
       "      <th></th>\n",
       "      <th></th>\n",
       "      <th></th>\n",
       "      <th></th>\n",
       "      <th></th>\n",
       "      <th></th>\n",
       "      <th></th>\n",
       "      <th></th>\n",
       "      <th>0</th>\n",
       "    </tr>\n",
       "    <tr>\n",
       "      <th>id</th>\n",
       "      <th>name</th>\n",
       "      <th>host_id</th>\n",
       "      <th>host_name</th>\n",
       "      <th>neighbourhood_group</th>\n",
       "      <th>neighbourhood</th>\n",
       "      <th>latitude</th>\n",
       "      <th>longitude</th>\n",
       "      <th>room_type</th>\n",
       "      <th>minimum_nights</th>\n",
       "      <th>number_of_reviews</th>\n",
       "      <th>last_review</th>\n",
       "      <th>reviews_per_month</th>\n",
       "      <th>calculated_host_listings_count</th>\n",
       "      <th>availability_365</th>\n",
       "      <th></th>\n",
       "    </tr>\n",
       "  </thead>\n",
       "  <tbody>\n",
       "    <tr>\n",
       "      <th rowspan=\"5\" valign=\"top\">False</th>\n",
       "      <th rowspan=\"2\" valign=\"top\">False</th>\n",
       "      <th rowspan=\"2\" valign=\"top\">False</th>\n",
       "      <th rowspan=\"2\" valign=\"top\">False</th>\n",
       "      <th rowspan=\"2\" valign=\"top\">False</th>\n",
       "      <th rowspan=\"2\" valign=\"top\">False</th>\n",
       "      <th rowspan=\"2\" valign=\"top\">False</th>\n",
       "      <th rowspan=\"2\" valign=\"top\">False</th>\n",
       "      <th rowspan=\"2\" valign=\"top\">False</th>\n",
       "      <th rowspan=\"2\" valign=\"top\">False</th>\n",
       "      <th rowspan=\"2\" valign=\"top\">False</th>\n",
       "      <th>False</th>\n",
       "      <th>False</th>\n",
       "      <th>False</th>\n",
       "      <th>False</th>\n",
       "      <td>7718</td>\n",
       "    </tr>\n",
       "    <tr>\n",
       "      <th>True</th>\n",
       "      <th>True</th>\n",
       "      <th>False</th>\n",
       "      <th>False</th>\n",
       "      <td>2053</td>\n",
       "    </tr>\n",
       "    <tr>\n",
       "      <th>True</th>\n",
       "      <th>False</th>\n",
       "      <th>False</th>\n",
       "      <th>False</th>\n",
       "      <th>False</th>\n",
       "      <th>False</th>\n",
       "      <th>False</th>\n",
       "      <th>False</th>\n",
       "      <th>False</th>\n",
       "      <th>False</th>\n",
       "      <th>True</th>\n",
       "      <th>True</th>\n",
       "      <th>False</th>\n",
       "      <th>False</th>\n",
       "      <td>4</td>\n",
       "    </tr>\n",
       "    <tr>\n",
       "      <th rowspan=\"2\" valign=\"top\">False</th>\n",
       "      <th rowspan=\"2\" valign=\"top\">False</th>\n",
       "      <th rowspan=\"2\" valign=\"top\">True</th>\n",
       "      <th rowspan=\"2\" valign=\"top\">False</th>\n",
       "      <th rowspan=\"2\" valign=\"top\">False</th>\n",
       "      <th rowspan=\"2\" valign=\"top\">False</th>\n",
       "      <th rowspan=\"2\" valign=\"top\">False</th>\n",
       "      <th rowspan=\"2\" valign=\"top\">False</th>\n",
       "      <th rowspan=\"2\" valign=\"top\">False</th>\n",
       "      <th rowspan=\"2\" valign=\"top\">False</th>\n",
       "      <th>False</th>\n",
       "      <th>False</th>\n",
       "      <th>False</th>\n",
       "      <th>False</th>\n",
       "      <td>3</td>\n",
       "    </tr>\n",
       "    <tr>\n",
       "      <th>True</th>\n",
       "      <th>True</th>\n",
       "      <th>False</th>\n",
       "      <th>False</th>\n",
       "      <td>1</td>\n",
       "    </tr>\n",
       "  </tbody>\n",
       "</table>\n",
       "</div>"
      ],
      "text/plain": [
       "                                                                                                                                                                                                                0\n",
       "id    name  host_id host_name neighbourhood_group neighbourhood latitude longitude room_type minimum_nights number_of_reviews last_review reviews_per_month calculated_host_listings_count availability_365      \n",
       "False False False   False     False               False         False    False     False     False          False             False       False             False                          False             7718\n",
       "                                                                                                                              True        True              False                          False             2053\n",
       "      True  False   False     False               False         False    False     False     False          False             True        True              False                          False                4\n",
       "      False False   True      False               False         False    False     False     False          False             False       False             False                          False                3\n",
       "                                                                                                                              True        True              False                          False                1"
      ]
     },
     "execution_count": 11,
     "metadata": {},
     "output_type": "execute_result"
    }
   ],
   "source": [
    "b= test.isnull().value_counts()\n",
    "pd.DataFrame(b)"
   ]
  },
  {
   "cell_type": "markdown",
   "id": "27ce8e1e",
   "metadata": {},
   "source": [
    "- test도 train과 동일하게 last_review와 reviews_per_month의 결측치는 함께 발생했다.\n",
    "- name/host_name/last_review&reviews_per_month :FFF(7718)/FFT(2053)/FTF(3)/FTT(1)/TFT(4)\n",
    "- test 데이터에서는 train과 달리 TFF가 존재하지 않았다.\n"
   ]
  },
  {
   "cell_type": "code",
   "execution_count": 12,
   "id": "4375af00",
   "metadata": {},
   "outputs": [
    {
     "data": {
      "text/plain": [
       "<AxesSubplot:>"
      ]
     },
     "execution_count": 12,
     "metadata": {},
     "output_type": "execute_result"
    },
    {
     "data": {
      "image/png": "[encoded data removed]",
      "text/plain": [
       "<Figure size 432x288 with 1 Axes>"
      ]
     },
     "metadata": {
      "needs_background": "light"
     },
     "output_type": "display_data"
    }
   ],
   "source": [
    "# target(hist)\n",
    "train['price'].hist(bins=100)"
   ]
  },
  {
   "cell_type": "code",
   "execution_count": 13,
   "id": "5bc252e1",
   "metadata": {},
   "outputs": [
    {
     "data": {
      "text/plain": [
       "count    39116.000000\n",
       "mean       152.751150\n",
       "std        241.752501\n",
       "min          0.000000\n",
       "25%         69.000000\n",
       "50%        105.000000\n",
       "75%        175.000000\n",
       "max      10000.000000\n",
       "Name: price, dtype: float64"
      ]
     },
     "execution_count": 13,
     "metadata": {},
     "output_type": "execute_result"
    }
   ],
   "source": [
    "# target(describe)\n",
    "train['price'].describe()"
   ]
  },
  {
   "cell_type": "markdown",
   "id": "48b418ec",
   "metadata": {},
   "source": [
    "- price가 0인 방이 있다고 되어있다."
   ]
  },
  {
   "cell_type": "code",
   "execution_count": 14,
   "id": "69dd1283",
   "metadata": {},
   "outputs": [
    {
     "data": {
      "text/plain": [
       "9"
      ]
     },
     "execution_count": 14,
     "metadata": {},
     "output_type": "execute_result"
    }
   ],
   "source": [
    "# price가 0인 정보 확인\n",
    "\n",
    "train[train['price']==0].value_counts().sum()"
   ]
  },
  {
   "cell_type": "markdown",
   "id": "53ec1487",
   "metadata": {},
   "source": [
    "- price가 0인 값은 총 9개가 있다는 것을 알 수 있다.\n",
    "- price가 0인 값은 이상치로 보고 제거해도 될 것 같다."
   ]
  },
  {
   "cell_type": "code",
   "execution_count": 15,
   "id": "5bed9e67",
   "metadata": {},
   "outputs": [
    {
     "data": {
      "text/plain": [
       "219517861    256\n",
       "107434423    181\n",
       "30283594      99\n",
       "137358866     82\n",
       "12243051      80\n",
       "            ... \n",
       "73369106       1\n",
       "26620387       1\n",
       "176660539      1\n",
       "26004891       1\n",
       "2609535        1\n",
       "Name: host_id, Length: 30845, dtype: int64"
      ]
     },
     "execution_count": 15,
     "metadata": {},
     "output_type": "execute_result"
    }
   ],
   "source": [
    "# 피처(host_id) - 중복된 값이 있는지 확인하기\n",
    "train['host_id'].value_counts()"
   ]
  },
  {
   "cell_type": "code",
   "execution_count": 16,
   "id": "47ccc6be",
   "metadata": {},
   "outputs": [
    {
     "data": {
      "image/png": "[encoded data removed]",
      "text/plain": [
       "<Figure size 1440x1440 with 2 Axes>"
      ]
     },
     "metadata": {},
     "output_type": "display_data"
    }
   ],
   "source": [
    "sns.set(rc = {'figure.figsize':(20,20)})\n",
    "plt.xticks(fontsize = 20)\n",
    "plt.yticks(fontsize = 20)\n",
    "sns.heatmap(train.corr(), annot=True)\n",
    "plt.title(\"correlation\", fontsize = 50)\n",
    "plt.show()"
   ]
  },
  {
   "cell_type": "markdown",
   "id": "1feb2ac1",
   "metadata": {},
   "source": [
    "'price'와 다른 column간의 상관관계를 알고 싶어 히트맵을 만들어봤다. \n",
    "\n",
    "수치형 데이터로만 집계되었는데, price는 그 중 availability_365, calculate_host_listings_count 순으로 높은 상관관계를 나타냈고, longtitude와 가장 낮은 상관관계를 보였다."
   ]
  },
  {
   "cell_type": "markdown",
   "id": "586e0f32",
   "metadata": {},
   "source": [
    "## 3. 데이터 전처리\n",
    "\n",
    "1. 결측치 제거 - host_name, name의 열을 제거 & 리뷰 결측치 채우기\n",
    "2. 결측치 제거 - host_name, name의 열을 제거 & 리뷰 행 제거\n",
    "____\n",
    "\n",
    "- name과 host_name은 id라는 고유한 정보가 있기 때문에 중요한 정보가 아닐 것이라고 판단했다. 따라서 name과 host_name 컬럼을 지우고 리뷰에 대한 전처리를 어떤 방식으로 하는 것이 더 좋을 것인지 판단하기 위해 두가지로 나누어 진행하였다.\n",
    "\n",
    "- 그 전에 price가 0인 값은 지워주기로 한다."
   ]
  },
  {
   "cell_type": "code",
   "execution_count": 17,
   "id": "caa4f0d2",
   "metadata": {},
   "outputs": [
    {
     "data": {
      "text/html": [
       "<div>\n",
       "<style scoped>\n",
       "    .dataframe tbody tr th:only-of-type {\n",
       "        vertical-align: middle;\n",
       "    }\n",
       "\n",
       "    .dataframe tbody tr th {\n",
       "        vertical-align: top;\n",
       "    }\n",
       "\n",
       "    .dataframe thead th {\n",
       "        text-align: right;\n",
       "    }\n",
       "</style>\n",
       "<table border=\"1\" class=\"dataframe\">\n",
       "  <thead>\n",
       "    <tr style=\"text-align: right;\">\n",
       "      <th></th>\n",
       "      <th>id</th>\n",
       "      <th>name</th>\n",
       "      <th>host_id</th>\n",
       "      <th>host_name</th>\n",
       "      <th>neighbourhood_group</th>\n",
       "      <th>neighbourhood</th>\n",
       "      <th>latitude</th>\n",
       "      <th>longitude</th>\n",
       "      <th>room_type</th>\n",
       "      <th>price</th>\n",
       "      <th>minimum_nights</th>\n",
       "      <th>number_of_reviews</th>\n",
       "      <th>last_review</th>\n",
       "      <th>reviews_per_month</th>\n",
       "      <th>calculated_host_listings_count</th>\n",
       "      <th>availability_365</th>\n",
       "    </tr>\n",
       "  </thead>\n",
       "  <tbody>\n",
       "    <tr>\n",
       "      <th>0</th>\n",
       "      <td>14963583</td>\n",
       "      <td>Room in South Harlem near Central Park</td>\n",
       "      <td>94219511</td>\n",
       "      <td>Gilles</td>\n",
       "      <td>Manhattan</td>\n",
       "      <td>Harlem</td>\n",
       "      <td>40.80167</td>\n",
       "      <td>-73.95781</td>\n",
       "      <td>Private room</td>\n",
       "      <td>70</td>\n",
       "      <td>3</td>\n",
       "      <td>3</td>\n",
       "      <td>2019-01-01</td>\n",
       "      <td>0.09</td>\n",
       "      <td>2</td>\n",
       "      <td>0</td>\n",
       "    </tr>\n",
       "    <tr>\n",
       "      <th>1</th>\n",
       "      <td>9458704</td>\n",
       "      <td>Large 1BR Apartment, near Times Sq (2nd Floor)</td>\n",
       "      <td>49015331</td>\n",
       "      <td>Iradj</td>\n",
       "      <td>Manhattan</td>\n",
       "      <td>Hell's Kitchen</td>\n",
       "      <td>40.76037</td>\n",
       "      <td>-73.99016</td>\n",
       "      <td>Entire home/apt</td>\n",
       "      <td>240</td>\n",
       "      <td>2</td>\n",
       "      <td>64</td>\n",
       "      <td>2019-06-30</td>\n",
       "      <td>1.68</td>\n",
       "      <td>2</td>\n",
       "      <td>262</td>\n",
       "    </tr>\n",
       "    <tr>\n",
       "      <th>2</th>\n",
       "      <td>26871281</td>\n",
       "      <td>West Village Apartment</td>\n",
       "      <td>440022</td>\n",
       "      <td>Petter</td>\n",
       "      <td>Manhattan</td>\n",
       "      <td>West Village</td>\n",
       "      <td>40.73001</td>\n",
       "      <td>-74.00562</td>\n",
       "      <td>Entire home/apt</td>\n",
       "      <td>150</td>\n",
       "      <td>60</td>\n",
       "      <td>1</td>\n",
       "      <td>2019-02-07</td>\n",
       "      <td>0.20</td>\n",
       "      <td>1</td>\n",
       "      <td>0</td>\n",
       "    </tr>\n",
       "    <tr>\n",
       "      <th>3</th>\n",
       "      <td>698132</td>\n",
       "      <td>LARGE PRIVATE FLOOR IN BROOKLYN, NY</td>\n",
       "      <td>3577509</td>\n",
       "      <td>Eric</td>\n",
       "      <td>Brooklyn</td>\n",
       "      <td>Bedford-Stuyvesant</td>\n",
       "      <td>40.69128</td>\n",
       "      <td>-73.93653</td>\n",
       "      <td>Entire home/apt</td>\n",
       "      <td>85</td>\n",
       "      <td>4</td>\n",
       "      <td>239</td>\n",
       "      <td>2019-06-26</td>\n",
       "      <td>2.89</td>\n",
       "      <td>2</td>\n",
       "      <td>1</td>\n",
       "    </tr>\n",
       "    <tr>\n",
       "      <th>4</th>\n",
       "      <td>15783953</td>\n",
       "      <td>Sun-drenched apartment, 20 mins to Manhattan</td>\n",
       "      <td>12475280</td>\n",
       "      <td>George</td>\n",
       "      <td>Brooklyn</td>\n",
       "      <td>Bedford-Stuyvesant</td>\n",
       "      <td>40.68899</td>\n",
       "      <td>-73.95555</td>\n",
       "      <td>Private room</td>\n",
       "      <td>44</td>\n",
       "      <td>28</td>\n",
       "      <td>0</td>\n",
       "      <td>NaN</td>\n",
       "      <td>NaN</td>\n",
       "      <td>1</td>\n",
       "      <td>0</td>\n",
       "    </tr>\n",
       "    <tr>\n",
       "      <th>...</th>\n",
       "      <td>...</td>\n",
       "      <td>...</td>\n",
       "      <td>...</td>\n",
       "      <td>...</td>\n",
       "      <td>...</td>\n",
       "      <td>...</td>\n",
       "      <td>...</td>\n",
       "      <td>...</td>\n",
       "      <td>...</td>\n",
       "      <td>...</td>\n",
       "      <td>...</td>\n",
       "      <td>...</td>\n",
       "      <td>...</td>\n",
       "      <td>...</td>\n",
       "      <td>...</td>\n",
       "      <td>...</td>\n",
       "    </tr>\n",
       "    <tr>\n",
       "      <th>39111</th>\n",
       "      <td>35425034</td>\n",
       "      <td>Stylish studio by Fulton station</td>\n",
       "      <td>107724585</td>\n",
       "      <td>Jessie</td>\n",
       "      <td>Manhattan</td>\n",
       "      <td>Financial District</td>\n",
       "      <td>40.71035</td>\n",
       "      <td>-74.00734</td>\n",
       "      <td>Entire home/apt</td>\n",
       "      <td>185</td>\n",
       "      <td>30</td>\n",
       "      <td>0</td>\n",
       "      <td>NaN</td>\n",
       "      <td>NaN</td>\n",
       "      <td>2</td>\n",
       "      <td>346</td>\n",
       "    </tr>\n",
       "    <tr>\n",
       "      <th>39112</th>\n",
       "      <td>29754544</td>\n",
       "      <td>Comfortable- JFK,LGA Best Value</td>\n",
       "      <td>223846870</td>\n",
       "      <td>Shared Stay-JFK The Hugh Suite</td>\n",
       "      <td>Queens</td>\n",
       "      <td>Springfield Gardens</td>\n",
       "      <td>40.66102</td>\n",
       "      <td>-73.77035</td>\n",
       "      <td>Private room</td>\n",
       "      <td>50</td>\n",
       "      <td>1</td>\n",
       "      <td>57</td>\n",
       "      <td>2019-06-21</td>\n",
       "      <td>7.28</td>\n",
       "      <td>3</td>\n",
       "      <td>342</td>\n",
       "    </tr>\n",
       "    <tr>\n",
       "      <th>39113</th>\n",
       "      <td>13261616</td>\n",
       "      <td>Sunny, Accessible, UES Apt - Summer in the City</td>\n",
       "      <td>24693048</td>\n",
       "      <td>Tola</td>\n",
       "      <td>Manhattan</td>\n",
       "      <td>Upper East Side</td>\n",
       "      <td>40.77693</td>\n",
       "      <td>-73.94524</td>\n",
       "      <td>Entire home/apt</td>\n",
       "      <td>120</td>\n",
       "      <td>7</td>\n",
       "      <td>0</td>\n",
       "      <td>NaN</td>\n",
       "      <td>NaN</td>\n",
       "      <td>1</td>\n",
       "      <td>0</td>\n",
       "    </tr>\n",
       "    <tr>\n",
       "      <th>39114</th>\n",
       "      <td>531258</td>\n",
       "      <td>1 BR Village - 30 day+ stay</td>\n",
       "      <td>2609535</td>\n",
       "      <td>Alexandra</td>\n",
       "      <td>Manhattan</td>\n",
       "      <td>Greenwich Village</td>\n",
       "      <td>40.73110</td>\n",
       "      <td>-73.99913</td>\n",
       "      <td>Entire home/apt</td>\n",
       "      <td>165</td>\n",
       "      <td>30</td>\n",
       "      <td>19</td>\n",
       "      <td>2018-10-15</td>\n",
       "      <td>0.23</td>\n",
       "      <td>1</td>\n",
       "      <td>259</td>\n",
       "    </tr>\n",
       "    <tr>\n",
       "      <th>39115</th>\n",
       "      <td>17041225</td>\n",
       "      <td>Funky 3 Bedroom Duplex in hip Greenpoint, Broo...</td>\n",
       "      <td>1239078</td>\n",
       "      <td>Michael</td>\n",
       "      <td>Brooklyn</td>\n",
       "      <td>Greenpoint</td>\n",
       "      <td>40.72881</td>\n",
       "      <td>-73.95817</td>\n",
       "      <td>Entire home/apt</td>\n",
       "      <td>200</td>\n",
       "      <td>2</td>\n",
       "      <td>35</td>\n",
       "      <td>2017-09-15</td>\n",
       "      <td>1.19</td>\n",
       "      <td>2</td>\n",
       "      <td>0</td>\n",
       "    </tr>\n",
       "  </tbody>\n",
       "</table>\n",
       "<p>39107 rows × 16 columns</p>\n",
       "</div>"
      ],
      "text/plain": [
       "             id                                               name    host_id  \\\n",
       "0      14963583             Room in South Harlem near Central Park   94219511   \n",
       "1       9458704     Large 1BR Apartment, near Times Sq (2nd Floor)   49015331   \n",
       "2      26871281                             West Village Apartment     440022   \n",
       "3        698132                LARGE PRIVATE FLOOR IN BROOKLYN, NY    3577509   \n",
       "4      15783953       Sun-drenched apartment, 20 mins to Manhattan   12475280   \n",
       "...         ...                                                ...        ...   \n",
       "39111  35425034                   Stylish studio by Fulton station  107724585   \n",
       "39112  29754544                    Comfortable- JFK,LGA Best Value  223846870   \n",
       "39113  13261616    Sunny, Accessible, UES Apt - Summer in the City   24693048   \n",
       "39114    531258                        1 BR Village - 30 day+ stay    2609535   \n",
       "39115  17041225  Funky 3 Bedroom Duplex in hip Greenpoint, Broo...    1239078   \n",
       "\n",
       "                            host_name neighbourhood_group  \\\n",
       "0                              Gilles           Manhattan   \n",
       "1                               Iradj           Manhattan   \n",
       "2                              Petter           Manhattan   \n",
       "3                                Eric            Brooklyn   \n",
       "4                              George            Brooklyn   \n",
       "...                               ...                 ...   \n",
       "39111                          Jessie           Manhattan   \n",
       "39112  Shared Stay-JFK The Hugh Suite              Queens   \n",
       "39113                            Tola           Manhattan   \n",
       "39114                       Alexandra           Manhattan   \n",
       "39115                         Michael            Brooklyn   \n",
       "\n",
       "             neighbourhood  latitude  longitude        room_type  price  \\\n",
       "0                   Harlem  40.80167  -73.95781     Private room     70   \n",
       "1           Hell's Kitchen  40.76037  -73.99016  Entire home/apt    240   \n",
       "2             West Village  40.73001  -74.00562  Entire home/apt    150   \n",
       "3       Bedford-Stuyvesant  40.69128  -73.93653  Entire home/apt     85   \n",
       "4       Bedford-Stuyvesant  40.68899  -73.95555     Private room     44   \n",
       "...                    ...       ...        ...              ...    ...   \n",
       "39111   Financial District  40.71035  -74.00734  Entire home/apt    185   \n",
       "39112  Springfield Gardens  40.66102  -73.77035     Private room     50   \n",
       "39113      Upper East Side  40.77693  -73.94524  Entire home/apt    120   \n",
       "39114    Greenwich Village  40.73110  -73.99913  Entire home/apt    165   \n",
       "39115           Greenpoint  40.72881  -73.95817  Entire home/apt    200   \n",
       "\n",
       "       minimum_nights  number_of_reviews last_review  reviews_per_month  \\\n",
       "0                   3                  3  2019-01-01               0.09   \n",
       "1                   2                 64  2019-06-30               1.68   \n",
       "2                  60                  1  2019-02-07               0.20   \n",
       "3                   4                239  2019-06-26               2.89   \n",
       "4                  28                  0         NaN                NaN   \n",
       "...               ...                ...         ...                ...   \n",
       "39111              30                  0         NaN                NaN   \n",
       "39112               1                 57  2019-06-21               7.28   \n",
       "39113               7                  0         NaN                NaN   \n",
       "39114              30                 19  2018-10-15               0.23   \n",
       "39115               2                 35  2017-09-15               1.19   \n",
       "\n",
       "       calculated_host_listings_count  availability_365  \n",
       "0                                   2                 0  \n",
       "1                                   2               262  \n",
       "2                                   1                 0  \n",
       "3                                   2                 1  \n",
       "4                                   1                 0  \n",
       "...                               ...               ...  \n",
       "39111                               2               346  \n",
       "39112                               3               342  \n",
       "39113                               1                 0  \n",
       "39114                               1               259  \n",
       "39115                               2                 0  \n",
       "\n",
       "[39107 rows x 16 columns]"
      ]
     },
     "execution_count": 17,
     "metadata": {},
     "output_type": "execute_result"
    }
   ],
   "source": [
    "# 이상치 삭제하기\n",
    "train = train[train['price']!=0]\n",
    "train"
   ]
  },
  {
   "cell_type": "code",
   "execution_count": 18,
   "id": "c1d0241b",
   "metadata": {},
   "outputs": [
    {
     "data": {
      "text/plain": [
       "id                                   0\n",
       "name                                12\n",
       "host_id                              0\n",
       "host_name                           17\n",
       "neighbourhood_group                  0\n",
       "neighbourhood                        0\n",
       "latitude                             0\n",
       "longitude                            0\n",
       "room_type                            0\n",
       "price                                0\n",
       "minimum_nights                       0\n",
       "number_of_reviews                    0\n",
       "last_review                       7994\n",
       "reviews_per_month                 7994\n",
       "calculated_host_listings_count       0\n",
       "availability_365                     0\n",
       "dtype: int64"
      ]
     },
     "execution_count": 18,
     "metadata": {},
     "output_type": "execute_result"
    }
   ],
   "source": [
    "# price가 0인값을 제거한 데이터의 결측치를 다시 확인한다.\n",
    "\n",
    "train.isnull().sum()"
   ]
  },
  {
   "cell_type": "markdown",
   "id": "543eec5e",
   "metadata": {},
   "source": [
    "price가 0인 값을 삭제해도 위에서 찾은 결측치와 상관이 없기에 예정대로 진행한다."
   ]
  },
  {
   "cell_type": "code",
   "execution_count": 19,
   "id": "07428f2a",
   "metadata": {},
   "outputs": [],
   "source": [
    "#1. name, host_name 열 삭제하기\n",
    "\n",
    "train_1 = train.drop(['name','host_name'], axis=1)\n",
    "test_1 = test.drop(['name','host_name'], axis=1)"
   ]
  },
  {
   "cell_type": "code",
   "execution_count": 20,
   "id": "e3e4c349",
   "metadata": {},
   "outputs": [],
   "source": [
    "# 결측치 컬럼 삭제 (last_review) - %값으로 되어 있어서 채우기 어려울 것 같으므로\n",
    "train_1 = train_1.drop('last_review', axis=1)\n",
    "test_1 = test_1.drop('last_review', axis=1)"
   ]
  },
  {
   "cell_type": "code",
   "execution_count": 21,
   "id": "a9a4db47",
   "metadata": {},
   "outputs": [],
   "source": [
    "# 결측치 채우기\n",
    "train_1['reviews_per_month'] = train_1['reviews_per_month'].fillna(0)\n",
    "test_1['reviews_per_month'] = test_1['reviews_per_month'].fillna(0)"
   ]
  },
  {
   "cell_type": "markdown",
   "id": "451205f5",
   "metadata": {},
   "source": [
    "- name과 host_name 컬럼을 삭제한 데이터에서는 결측치를 어떻게 처리하는 게 좋을지 확인하기 위해 lms와 동일하게 채우기 어려운 last_review 컬럼은 삭제하고 review_per_month는 0으로 채워주었다.\n",
    "- 각 전처리마다의 결과값을 확인하기 위해 새로운 변수를 지정하였다."
   ]
  },
  {
   "cell_type": "code",
   "execution_count": 22,
   "id": "b29c2fa6",
   "metadata": {},
   "outputs": [
    {
     "data": {
      "text/plain": [
       "id                                0\n",
       "host_id                           0\n",
       "neighbourhood_group               0\n",
       "neighbourhood                     0\n",
       "latitude                          0\n",
       "longitude                         0\n",
       "room_type                         0\n",
       "price                             0\n",
       "minimum_nights                    0\n",
       "number_of_reviews                 0\n",
       "reviews_per_month                 0\n",
       "calculated_host_listings_count    0\n",
       "availability_365                  0\n",
       "dtype: int64"
      ]
     },
     "execution_count": 22,
     "metadata": {},
     "output_type": "execute_result"
    }
   ],
   "source": [
    "train_1.isnull().sum()"
   ]
  },
  {
   "cell_type": "markdown",
   "id": "25761d65",
   "metadata": {},
   "source": [
    "결측치가 모두 사라진 것을 확인할 수 있다."
   ]
  },
  {
   "cell_type": "code",
   "execution_count": 23,
   "id": "b134a7f0",
   "metadata": {},
   "outputs": [],
   "source": [
    "#2. name, host_name 열 동일하게 삭제하기\n",
    "\n",
    "train_2 = train.drop(['name','host_name'], axis=1)\n",
    "test_2 = test.drop(['name','host_name'], axis=1)"
   ]
  },
  {
   "cell_type": "code",
   "execution_count": 24,
   "id": "124ea92a",
   "metadata": {},
   "outputs": [],
   "source": [
    "# 2. 결측치 행 제거(last_review,reviews_per_month)\n",
    "train_2 = train_2.dropna(subset = ['last_review'])\n",
    "test_2 = test_2.dropna(subset = ['last_review'])"
   ]
  },
  {
   "cell_type": "code",
   "execution_count": 25,
   "id": "f366a379",
   "metadata": {},
   "outputs": [
    {
     "data": {
      "text/html": [
       "<div>\n",
       "<style scoped>\n",
       "    .dataframe tbody tr th:only-of-type {\n",
       "        vertical-align: middle;\n",
       "    }\n",
       "\n",
       "    .dataframe tbody tr th {\n",
       "        vertical-align: top;\n",
       "    }\n",
       "\n",
       "    .dataframe thead th {\n",
       "        text-align: right;\n",
       "    }\n",
       "</style>\n",
       "<table border=\"1\" class=\"dataframe\">\n",
       "  <thead>\n",
       "    <tr style=\"text-align: right;\">\n",
       "      <th></th>\n",
       "      <th>id</th>\n",
       "      <th>host_id</th>\n",
       "      <th>neighbourhood_group</th>\n",
       "      <th>neighbourhood</th>\n",
       "      <th>latitude</th>\n",
       "      <th>longitude</th>\n",
       "      <th>room_type</th>\n",
       "      <th>minimum_nights</th>\n",
       "      <th>number_of_reviews</th>\n",
       "      <th>last_review</th>\n",
       "      <th>reviews_per_month</th>\n",
       "      <th>calculated_host_listings_count</th>\n",
       "      <th>availability_365</th>\n",
       "    </tr>\n",
       "  </thead>\n",
       "  <tbody>\n",
       "    <tr>\n",
       "      <th>0</th>\n",
       "      <td>30913224</td>\n",
       "      <td>33771081</td>\n",
       "      <td>Brooklyn</td>\n",
       "      <td>Williamsburg</td>\n",
       "      <td>40.70959</td>\n",
       "      <td>-73.94652</td>\n",
       "      <td>Private room</td>\n",
       "      <td>3</td>\n",
       "      <td>2</td>\n",
       "      <td>2019-05-08</td>\n",
       "      <td>0.31</td>\n",
       "      <td>1</td>\n",
       "      <td>0</td>\n",
       "    </tr>\n",
       "    <tr>\n",
       "      <th>1</th>\n",
       "      <td>971247</td>\n",
       "      <td>5308961</td>\n",
       "      <td>Manhattan</td>\n",
       "      <td>Upper West Side</td>\n",
       "      <td>40.79368</td>\n",
       "      <td>-73.96487</td>\n",
       "      <td>Entire home/apt</td>\n",
       "      <td>3</td>\n",
       "      <td>159</td>\n",
       "      <td>2019-07-03</td>\n",
       "      <td>2.09</td>\n",
       "      <td>1</td>\n",
       "      <td>244</td>\n",
       "    </tr>\n",
       "    <tr>\n",
       "      <th>2</th>\n",
       "      <td>414801</td>\n",
       "      <td>319077</td>\n",
       "      <td>Brooklyn</td>\n",
       "      <td>Clinton Hill</td>\n",
       "      <td>40.68722</td>\n",
       "      <td>-73.96289</td>\n",
       "      <td>Entire home/apt</td>\n",
       "      <td>1</td>\n",
       "      <td>54</td>\n",
       "      <td>2019-03-24</td>\n",
       "      <td>0.65</td>\n",
       "      <td>4</td>\n",
       "      <td>365</td>\n",
       "    </tr>\n",
       "    <tr>\n",
       "      <th>3</th>\n",
       "      <td>21815842</td>\n",
       "      <td>1931990</td>\n",
       "      <td>Brooklyn</td>\n",
       "      <td>Clinton Hill</td>\n",
       "      <td>40.68859</td>\n",
       "      <td>-73.96035</td>\n",
       "      <td>Entire home/apt</td>\n",
       "      <td>3</td>\n",
       "      <td>2</td>\n",
       "      <td>2018-05-11</td>\n",
       "      <td>0.13</td>\n",
       "      <td>1</td>\n",
       "      <td>0</td>\n",
       "    </tr>\n",
       "    <tr>\n",
       "      <th>4</th>\n",
       "      <td>13576581</td>\n",
       "      <td>78325795</td>\n",
       "      <td>Manhattan</td>\n",
       "      <td>Harlem</td>\n",
       "      <td>40.80573</td>\n",
       "      <td>-73.94994</td>\n",
       "      <td>Entire home/apt</td>\n",
       "      <td>1</td>\n",
       "      <td>160</td>\n",
       "      <td>2019-06-23</td>\n",
       "      <td>4.31</td>\n",
       "      <td>3</td>\n",
       "      <td>246</td>\n",
       "    </tr>\n",
       "    <tr>\n",
       "      <th>...</th>\n",
       "      <td>...</td>\n",
       "      <td>...</td>\n",
       "      <td>...</td>\n",
       "      <td>...</td>\n",
       "      <td>...</td>\n",
       "      <td>...</td>\n",
       "      <td>...</td>\n",
       "      <td>...</td>\n",
       "      <td>...</td>\n",
       "      <td>...</td>\n",
       "      <td>...</td>\n",
       "      <td>...</td>\n",
       "      <td>...</td>\n",
       "    </tr>\n",
       "    <tr>\n",
       "      <th>7716</th>\n",
       "      <td>32180213</td>\n",
       "      <td>198730633</td>\n",
       "      <td>Manhattan</td>\n",
       "      <td>Harlem</td>\n",
       "      <td>40.81105</td>\n",
       "      <td>-73.95241</td>\n",
       "      <td>Private room</td>\n",
       "      <td>1</td>\n",
       "      <td>3</td>\n",
       "      <td>2019-03-17</td>\n",
       "      <td>0.71</td>\n",
       "      <td>2</td>\n",
       "      <td>0</td>\n",
       "    </tr>\n",
       "    <tr>\n",
       "      <th>7717</th>\n",
       "      <td>16024539</td>\n",
       "      <td>1622733</td>\n",
       "      <td>Brooklyn</td>\n",
       "      <td>Greenpoint</td>\n",
       "      <td>40.72413</td>\n",
       "      <td>-73.95090</td>\n",
       "      <td>Entire home/apt</td>\n",
       "      <td>2</td>\n",
       "      <td>14</td>\n",
       "      <td>2019-06-08</td>\n",
       "      <td>0.70</td>\n",
       "      <td>1</td>\n",
       "      <td>93</td>\n",
       "    </tr>\n",
       "    <tr>\n",
       "      <th>7718</th>\n",
       "      <td>35235326</td>\n",
       "      <td>96659533</td>\n",
       "      <td>Brooklyn</td>\n",
       "      <td>Bushwick</td>\n",
       "      <td>40.69447</td>\n",
       "      <td>-73.91364</td>\n",
       "      <td>Private room</td>\n",
       "      <td>2</td>\n",
       "      <td>5</td>\n",
       "      <td>2019-07-02</td>\n",
       "      <td>4.17</td>\n",
       "      <td>2</td>\n",
       "      <td>301</td>\n",
       "    </tr>\n",
       "    <tr>\n",
       "      <th>7719</th>\n",
       "      <td>33471805</td>\n",
       "      <td>252191305</td>\n",
       "      <td>Queens</td>\n",
       "      <td>Cambria Heights</td>\n",
       "      <td>40.69090</td>\n",
       "      <td>-73.73193</td>\n",
       "      <td>Private room</td>\n",
       "      <td>1</td>\n",
       "      <td>34</td>\n",
       "      <td>2019-06-30</td>\n",
       "      <td>11.21</td>\n",
       "      <td>1</td>\n",
       "      <td>61</td>\n",
       "    </tr>\n",
       "    <tr>\n",
       "      <th>7720</th>\n",
       "      <td>24395331</td>\n",
       "      <td>6059987</td>\n",
       "      <td>Brooklyn</td>\n",
       "      <td>Crown Heights</td>\n",
       "      <td>40.67718</td>\n",
       "      <td>-73.95566</td>\n",
       "      <td>Private room</td>\n",
       "      <td>1</td>\n",
       "      <td>2</td>\n",
       "      <td>2018-07-20</td>\n",
       "      <td>0.17</td>\n",
       "      <td>1</td>\n",
       "      <td>0</td>\n",
       "    </tr>\n",
       "  </tbody>\n",
       "</table>\n",
       "<p>7721 rows × 13 columns</p>\n",
       "</div>"
      ],
      "text/plain": [
       "            id    host_id neighbourhood_group    neighbourhood  latitude  \\\n",
       "0     30913224   33771081            Brooklyn     Williamsburg  40.70959   \n",
       "1       971247    5308961           Manhattan  Upper West Side  40.79368   \n",
       "2       414801     319077            Brooklyn     Clinton Hill  40.68722   \n",
       "3     21815842    1931990            Brooklyn     Clinton Hill  40.68859   \n",
       "4     13576581   78325795           Manhattan           Harlem  40.80573   \n",
       "...        ...        ...                 ...              ...       ...   \n",
       "7716  32180213  198730633           Manhattan           Harlem  40.81105   \n",
       "7717  16024539    1622733            Brooklyn       Greenpoint  40.72413   \n",
       "7718  35235326   96659533            Brooklyn         Bushwick  40.69447   \n",
       "7719  33471805  252191305              Queens  Cambria Heights  40.69090   \n",
       "7720  24395331    6059987            Brooklyn    Crown Heights  40.67718   \n",
       "\n",
       "      longitude        room_type  minimum_nights  number_of_reviews  \\\n",
       "0     -73.94652     Private room               3                  2   \n",
       "1     -73.96487  Entire home/apt               3                159   \n",
       "2     -73.96289  Entire home/apt               1                 54   \n",
       "3     -73.96035  Entire home/apt               3                  2   \n",
       "4     -73.94994  Entire home/apt               1                160   \n",
       "...         ...              ...             ...                ...   \n",
       "7716  -73.95241     Private room               1                  3   \n",
       "7717  -73.95090  Entire home/apt               2                 14   \n",
       "7718  -73.91364     Private room               2                  5   \n",
       "7719  -73.73193     Private room               1                 34   \n",
       "7720  -73.95566     Private room               1                  2   \n",
       "\n",
       "     last_review  reviews_per_month  calculated_host_listings_count  \\\n",
       "0     2019-05-08               0.31                               1   \n",
       "1     2019-07-03               2.09                               1   \n",
       "2     2019-03-24               0.65                               4   \n",
       "3     2018-05-11               0.13                               1   \n",
       "4     2019-06-23               4.31                               3   \n",
       "...          ...                ...                             ...   \n",
       "7716  2019-03-17               0.71                               2   \n",
       "7717  2019-06-08               0.70                               1   \n",
       "7718  2019-07-02               4.17                               2   \n",
       "7719  2019-06-30              11.21                               1   \n",
       "7720  2018-07-20               0.17                               1   \n",
       "\n",
       "      availability_365  \n",
       "0                    0  \n",
       "1                  244  \n",
       "2                  365  \n",
       "3                    0  \n",
       "4                  246  \n",
       "...                ...  \n",
       "7716                 0  \n",
       "7717                93  \n",
       "7718               301  \n",
       "7719                61  \n",
       "7720                 0  \n",
       "\n",
       "[7721 rows x 13 columns]"
      ]
     },
     "execution_count": 25,
     "metadata": {},
     "output_type": "execute_result"
    }
   ],
   "source": [
    "train_2.reset_index(drop=True)\n",
    "test_2.reset_index(drop=True)"
   ]
  },
  {
   "cell_type": "markdown",
   "id": "75cafd58",
   "metadata": {},
   "source": [
    "- 위 데이터 탐색에서 last_review, reviews_per_month의 결측치가 같은 행이란 것을 확인했으므로 이 행들을 삭제해준다."
   ]
  },
  {
   "cell_type": "code",
   "execution_count": 26,
   "id": "41c30bd3",
   "metadata": {},
   "outputs": [
    {
     "data": {
      "text/plain": [
       "id                                0\n",
       "host_id                           0\n",
       "neighbourhood_group               0\n",
       "neighbourhood                     0\n",
       "latitude                          0\n",
       "longitude                         0\n",
       "room_type                         0\n",
       "price                             0\n",
       "minimum_nights                    0\n",
       "number_of_reviews                 0\n",
       "last_review                       0\n",
       "reviews_per_month                 0\n",
       "calculated_host_listings_count    0\n",
       "availability_365                  0\n",
       "dtype: int64"
      ]
     },
     "execution_count": 26,
     "metadata": {},
     "output_type": "execute_result"
    }
   ],
   "source": [
    "# 결측치 확인\n",
    "train_2.isnull().sum()"
   ]
  },
  {
   "cell_type": "code",
   "execution_count": 27,
   "id": "975c4498",
   "metadata": {},
   "outputs": [
    {
     "data": {
      "text/plain": [
       "id                                0\n",
       "host_id                           0\n",
       "neighbourhood_group               0\n",
       "neighbourhood                     0\n",
       "latitude                          0\n",
       "longitude                         0\n",
       "room_type                         0\n",
       "minimum_nights                    0\n",
       "number_of_reviews                 0\n",
       "last_review                       0\n",
       "reviews_per_month                 0\n",
       "calculated_host_listings_count    0\n",
       "availability_365                  0\n",
       "dtype: int64"
      ]
     },
     "execution_count": 27,
     "metadata": {},
     "output_type": "execute_result"
    }
   ],
   "source": [
    "test_2.isnull().sum()"
   ]
  },
  {
   "cell_type": "code",
   "execution_count": 28,
   "id": "d6519d5f",
   "metadata": {},
   "outputs": [],
   "source": [
    "# 가격 값 복사\n",
    "target_1 = train_1['price']\n",
    "train_1 = train_1.drop('price', axis=1)\n",
    "\n",
    "target_2 = train_2['price']\n",
    "train_2 = train_2.drop('price', axis=1)"
   ]
  },
  {
   "cell_type": "code",
   "execution_count": 29,
   "id": "d2671517",
   "metadata": {},
   "outputs": [],
   "source": [
    "# 수치형 피처 선택\n",
    "cols = [\n",
    "        'host_id',\n",
    "        'latitude', \n",
    "        'longitude', \n",
    "        'minimum_nights',\n",
    "        'number_of_reviews', \n",
    "        'reviews_per_month',\n",
    "        'calculated_host_listings_count',\n",
    "        'availability_365'\n",
    "        ]"
   ]
  },
  {
   "cell_type": "code",
   "execution_count": 30,
   "id": "cca033b5",
   "metadata": {},
   "outputs": [],
   "source": [
    "## train 과 test를 동일하게 대입해 주어야 함\n",
    "train_1 = train_1[cols]\n",
    "test_1 = test_1[cols]\n",
    "\n",
    "train_2 = train_2[cols]\n",
    "test_2 = test_2[cols]"
   ]
  },
  {
   "cell_type": "markdown",
   "id": "f1105d7e",
   "metadata": {},
   "source": [
    "## 4. 검증 데이터 분리"
   ]
  },
  {
   "cell_type": "code",
   "execution_count": 31,
   "id": "d0d03ddb",
   "metadata": {},
   "outputs": [
    {
     "data": {
      "text/plain": [
       "((31285, 8), (7822, 8), (31285,), (7822,))"
      ]
     },
     "execution_count": 31,
     "metadata": {},
     "output_type": "execute_result"
    }
   ],
   "source": [
    "# 검증 데이터 분리\n",
    "from sklearn.model_selection import train_test_split\n",
    "\n",
    "X_train_1, X_val_1, y_train_1, y_val_1 = train_test_split(train_1, target_1, test_size=0.2, random_state=2022)\n",
    "X_train_1.shape, X_val_1.shape, y_train_1.shape, y_val_1.shape"
   ]
  },
  {
   "cell_type": "code",
   "execution_count": 32,
   "id": "84d11d0d",
   "metadata": {},
   "outputs": [
    {
     "data": {
      "text/plain": [
       "((24890, 8), (6223, 8), (24890,), (6223,))"
      ]
     },
     "execution_count": 32,
     "metadata": {},
     "output_type": "execute_result"
    }
   ],
   "source": [
    "X_train_2, X_val_2, y_train_2, y_val_2 = train_test_split(train_2, target_2, test_size=0.2, random_state=2022)\n",
    "X_train_2.shape, X_val_2.shape, y_train_2.shape, y_val_2.shape"
   ]
  },
  {
   "cell_type": "markdown",
   "id": "16ff70b4",
   "metadata": {},
   "source": [
    "## 5. 머신러닝"
   ]
  },
  {
   "cell_type": "markdown",
   "id": "5e3e3295",
   "metadata": {},
   "source": [
    "첫번째 데이터를 먼저 살펴보자."
   ]
  },
  {
   "cell_type": "code",
   "execution_count": 33,
   "id": "6cbe020c",
   "metadata": {},
   "outputs": [
    {
     "data": {
      "text/plain": [
       "64931.106430377884"
      ]
     },
     "execution_count": 33,
     "metadata": {},
     "output_type": "execute_result"
    }
   ],
   "source": [
    "# 머신러닝(회귀)\n",
    "from sklearn.linear_model import LinearRegression\n",
    "from sklearn.metrics import mean_squared_error\n",
    "\n",
    "model_LR = LinearRegression()\n",
    "model_LR.fit(X_train_1, y_train_1)\n",
    "pred = model_LR.predict(X_val_1)\n",
    "mean_squared_error(y_val_1, pred)"
   ]
  },
  {
   "cell_type": "code",
   "execution_count": 34,
   "id": "c51e847e",
   "metadata": {},
   "outputs": [
    {
     "name": "stderr",
     "output_type": "stream",
     "text": [
      "/opt/conda/lib/python3.9/site-packages/sklearn/linear_model/_ridge.py:156: LinAlgWarning: Ill-conditioned matrix (rcond=3.10877e-19): result may not be accurate.\n",
      "  return linalg.solve(A, Xy, sym_pos=True, overwrite_a=True).T\n"
     ]
    },
    {
     "data": {
      "text/plain": [
       "64935.32868265513"
      ]
     },
     "execution_count": 34,
     "metadata": {},
     "output_type": "execute_result"
    }
   ],
   "source": [
    "# 릿지 회귀\n",
    "from sklearn.linear_model import Ridge\n",
    "\n",
    "model_R = Ridge()\n",
    "model_R.fit(X_train_1, y_train_1)\n",
    "pred = model_R.predict(X_val_1)\n",
    "mean_squared_error(y_val_1, pred)"
   ]
  },
  {
   "cell_type": "code",
   "execution_count": 35,
   "id": "88124e50",
   "metadata": {},
   "outputs": [
    {
     "data": {
      "text/plain": [
       "65681.68119038227"
      ]
     },
     "execution_count": 35,
     "metadata": {},
     "output_type": "execute_result"
    }
   ],
   "source": [
    "# 라쏘 회귀\n",
    "from sklearn.linear_model import Lasso\n",
    "\n",
    "model_L = Lasso()\n",
    "model_L.fit(X_train_1, y_train_1)\n",
    "pred = model_L.predict(X_val_1)\n",
    "mean_squared_error(y_val_1, pred)"
   ]
  },
  {
   "cell_type": "code",
   "execution_count": 36,
   "id": "6aec863a",
   "metadata": {},
   "outputs": [
    {
     "data": {
      "text/plain": [
       "66511.00195151783"
      ]
     },
     "execution_count": 36,
     "metadata": {},
     "output_type": "execute_result"
    }
   ],
   "source": [
    "# 엘라스틱넷 회귀\n",
    "from sklearn.linear_model import ElasticNet\n",
    "\n",
    "model_EN = ElasticNet()\n",
    "model_EN.fit(X_train_1, y_train_1)\n",
    "pred = model_EN.predict(X_val_1)\n",
    "mean_squared_error(y_val_1, pred)"
   ]
  },
  {
   "cell_type": "code",
   "execution_count": 37,
   "id": "17c8fbf6",
   "metadata": {},
   "outputs": [
    {
     "data": {
      "text/plain": [
       "57546.24406079008"
      ]
     },
     "execution_count": 37,
     "metadata": {},
     "output_type": "execute_result"
    }
   ],
   "source": [
    "# 랜덤포레스트\n",
    "from sklearn.ensemble import RandomForestRegressor\n",
    "\n",
    "model_RFR = RandomForestRegressor(random_state=2022)\n",
    "model_RFR.fit(X_train_1, y_train_1)\n",
    "pred = model_RFR.predict(X_val_1)\n",
    "mean_squared_error(y_val_1, pred)"
   ]
  },
  {
   "cell_type": "code",
   "execution_count": 38,
   "id": "48fb636f",
   "metadata": {},
   "outputs": [
    {
     "name": "stderr",
     "output_type": "stream",
     "text": [
      "/opt/conda/lib/python3.9/site-packages/pkg_resources/__init__.py:122: PkgResourcesDeprecationWarning: 0.996-ko-0.9.2 is an invalid version and will not be supported in a future release\n",
      "  warnings.warn(\n"
     ]
    },
    {
     "data": {
      "text/plain": [
       "62622.80744525614"
      ]
     },
     "execution_count": 38,
     "metadata": {},
     "output_type": "execute_result"
    }
   ],
   "source": [
    "# Xgboost\n",
    "from xgboost import XGBRegressor\n",
    "\n",
    "model_XGBR = XGBRegressor(random_state=2022)\n",
    "model_XGBR.fit(X_train_1, y_train_1)\n",
    "pred = model_XGBR.predict(X_val_1)\n",
    "mean_squared_error(y_val_1, pred)"
   ]
  },
  {
   "cell_type": "markdown",
   "id": "f2b1c0a7",
   "metadata": {},
   "source": [
    "- 첫번째 데이터는 lms와 비교했을 때 name과 host_name의 컬럼을 삭제했다는 것 외에 다른 점은 없었는데 놀랍게도 결과가 2배로 나빠졌다.\n",
    "\n",
    "- name과 host_name이 중요하지 않은 정보라고 생각했지만 두 컬럼은 모델 학습에 유용한 정보를 제공하는 컬럼이었다는 것을 알 수 있다.\n",
    "\n",
    "- 첫번째 데이터에서는 랜덤 포레스트가 가장 좋은 성능을 보여준다."
   ]
  },
  {
   "cell_type": "markdown",
   "id": "b97871ac",
   "metadata": {},
   "source": [
    "이번엔 두 번째 데이터를 확인해보자."
   ]
  },
  {
   "cell_type": "code",
   "execution_count": 46,
   "id": "eb9c3a8a",
   "metadata": {},
   "outputs": [
    {
     "data": {
      "text/plain": [
       "24026.70083484859"
      ]
     },
     "execution_count": 46,
     "metadata": {},
     "output_type": "execute_result"
    }
   ],
   "source": [
    "# 머신러닝(회귀)\n",
    "\n",
    "model_LR = LinearRegression()\n",
    "model_LR.fit(X_train_2, y_train_2)\n",
    "pred = model_LR.predict(X_val_2)\n",
    "mean_squared_error(y_val_2, pred)"
   ]
  },
  {
   "cell_type": "code",
   "execution_count": 47,
   "id": "bb69acd8",
   "metadata": {},
   "outputs": [
    {
     "name": "stderr",
     "output_type": "stream",
     "text": [
      "/opt/conda/lib/python3.9/site-packages/sklearn/linear_model/_ridge.py:156: LinAlgWarning: Ill-conditioned matrix (rcond=3.31318e-19): result may not be accurate.\n",
      "  return linalg.solve(A, Xy, sym_pos=True, overwrite_a=True).T\n"
     ]
    },
    {
     "data": {
      "text/plain": [
       "24025.58593040746"
      ]
     },
     "execution_count": 47,
     "metadata": {},
     "output_type": "execute_result"
    }
   ],
   "source": [
    "# 릿지 회귀\n",
    "\n",
    "model_R = Ridge()\n",
    "model_R.fit(X_train_2, y_train_2)\n",
    "pred = model_R.predict(X_val_2)\n",
    "mean_squared_error(y_val_2, pred)"
   ]
  },
  {
   "cell_type": "code",
   "execution_count": 48,
   "id": "84076a51",
   "metadata": {},
   "outputs": [
    {
     "data": {
      "text/plain": [
       "24606.37337271753"
      ]
     },
     "execution_count": 48,
     "metadata": {},
     "output_type": "execute_result"
    }
   ],
   "source": [
    "# 라쏘 회귀\n",
    "\n",
    "model_L = Lasso()\n",
    "model_L.fit(X_train_2, y_train_2)\n",
    "pred = model_L.predict(X_val_2)\n",
    "mean_squared_error(y_val_2, pred)"
   ]
  },
  {
   "cell_type": "code",
   "execution_count": 49,
   "id": "e3583af2",
   "metadata": {},
   "outputs": [
    {
     "data": {
      "text/plain": [
       "25124.306461808825"
      ]
     },
     "execution_count": 49,
     "metadata": {},
     "output_type": "execute_result"
    }
   ],
   "source": [
    "# 엘라스틱넷 회귀\n",
    "\n",
    "model_EN = ElasticNet()\n",
    "model_EN.fit(X_train_2, y_train_2)\n",
    "pred = model_EN.predict(X_val_2)\n",
    "mean_squared_error(y_val_2, pred)"
   ]
  },
  {
   "cell_type": "code",
   "execution_count": 50,
   "id": "042c684a",
   "metadata": {},
   "outputs": [
    {
     "data": {
      "text/plain": [
       "25452.827255664466"
      ]
     },
     "execution_count": 50,
     "metadata": {},
     "output_type": "execute_result"
    }
   ],
   "source": [
    "# 랜덤포레스트\n",
    "\n",
    "model_RFR = RandomForestRegressor(random_state=2022)\n",
    "model_RFR.fit(X_train_2, y_train_2)\n",
    "pred = model_RFR.predict(X_val_2)\n",
    "mean_squared_error(y_val_2, pred)"
   ]
  },
  {
   "cell_type": "code",
   "execution_count": 51,
   "id": "b69b69a7",
   "metadata": {},
   "outputs": [
    {
     "data": {
      "text/plain": [
       "37705.93065619856"
      ]
     },
     "execution_count": 51,
     "metadata": {},
     "output_type": "execute_result"
    }
   ],
   "source": [
    "# Xgboost\n",
    "\n",
    "model_XGBR = XGBRegressor(random_state=2022)\n",
    "model_XGBR.fit(X_train_2, y_train_2)\n",
    "pred = model_XGBR.predict(X_val_2)\n",
    "mean_squared_error(y_val_2, pred)"
   ]
  },
  {
   "cell_type": "markdown",
   "id": "2c885d91",
   "metadata": {},
   "source": [
    "- 첫 번째 데이터보다 각 모델들의 성능이 모두 좋아진 것을 확인할 수 있다.\n",
    "\n",
    "- 이번 데이터에서는 릿지 회귀가 가장 좋은 성능을 보여주는 모델이라는 것을 알 수 있다."
   ]
  },
  {
   "cell_type": "markdown",
   "id": "40158339",
   "metadata": {},
   "source": [
    "## 6. 평가\n",
    "\n",
    "mse 방법으로 평가해보자"
   ]
  },
  {
   "cell_type": "code",
   "execution_count": 39,
   "id": "16a4bf4b",
   "metadata": {},
   "outputs": [],
   "source": [
    "# test 데이터 예측 및 평가\n",
    "y_test_1 = pd.read_csv('/aiffel/data/y_test.csv')"
   ]
  },
  {
   "cell_type": "code",
   "execution_count": 40,
   "id": "ffcc7caf",
   "metadata": {},
   "outputs": [
    {
     "data": {
      "text/plain": [
       "52609.3541713162"
      ]
     },
     "execution_count": 40,
     "metadata": {},
     "output_type": "execute_result"
    }
   ],
   "source": [
    "# LinearRegression\n",
    "pred = model_LR.predict(test_1)\n",
    "mean_squared_error(y_test_1, pred)"
   ]
  },
  {
   "cell_type": "code",
   "execution_count": 41,
   "id": "48123eb9",
   "metadata": {},
   "outputs": [
    {
     "data": {
      "text/plain": [
       "52609.79172959345"
      ]
     },
     "execution_count": 41,
     "metadata": {},
     "output_type": "execute_result"
    }
   ],
   "source": [
    "# 릿지 회귀\n",
    "pred = model_R.predict(test_1)\n",
    "mean_squared_error(y_test_1, pred)"
   ]
  },
  {
   "cell_type": "code",
   "execution_count": 42,
   "id": "820dbd97",
   "metadata": {},
   "outputs": [
    {
     "data": {
      "text/plain": [
       "53193.77683500041"
      ]
     },
     "execution_count": 42,
     "metadata": {},
     "output_type": "execute_result"
    }
   ],
   "source": [
    "# 라쏘 회귀\n",
    "pred = model_L.predict(test_1)\n",
    "mean_squared_error(y_test_1, pred)"
   ]
  },
  {
   "cell_type": "code",
   "execution_count": 43,
   "id": "a0a27e91",
   "metadata": {},
   "outputs": [
    {
     "data": {
      "text/plain": [
       "53916.06286889384"
      ]
     },
     "execution_count": 43,
     "metadata": {},
     "output_type": "execute_result"
    }
   ],
   "source": [
    "# 엘라스텍넷 회귀\n",
    "pred = model_EN.predict(test_1)\n",
    "mean_squared_error(y_test_1, pred)"
   ]
  },
  {
   "cell_type": "code",
   "execution_count": 44,
   "id": "4e6e9f55",
   "metadata": {},
   "outputs": [
    {
     "data": {
      "text/plain": [
       "49790.6295350138"
      ]
     },
     "execution_count": 44,
     "metadata": {},
     "output_type": "execute_result"
    }
   ],
   "source": [
    "# 랜덤포레스트\n",
    "pred = model_RFR.predict(test_1)\n",
    "mean_squared_error(y_test_1, pred)"
   ]
  },
  {
   "cell_type": "code",
   "execution_count": 45,
   "id": "0b1167f7",
   "metadata": {},
   "outputs": [
    {
     "data": {
      "text/plain": [
       "48423.305637618316"
      ]
     },
     "execution_count": 45,
     "metadata": {},
     "output_type": "execute_result"
    }
   ],
   "source": [
    "# xgboost\n",
    "pred = model_XGBR.predict(test_1)\n",
    "mean_squared_error(y_test_1, pred)"
   ]
  },
  {
   "cell_type": "markdown",
   "id": "10106e40",
   "metadata": {},
   "source": [
    "- 크게 차이는 안나지만 오히려 채점용 데이터에서는 mse가 더 좋아진 것을 알 수 있다.\n",
    "\n",
    "- 첫번째 데이터에 대해서는 xgboost가 48xxx로 가장 좋은 성능을 보여주는 모델인 것을 확인할 수 있다."
   ]
  },
  {
   "cell_type": "markdown",
   "id": "554f905b",
   "metadata": {},
   "source": [
    "___\n",
    "두번째 데이터를 평가하기 전에 y_test의 데이터 량을 확인한다."
   ]
  },
  {
   "cell_type": "code",
   "execution_count": 52,
   "id": "bbfaa88c",
   "metadata": {},
   "outputs": [],
   "source": [
    "# test 데이터 예측 및 평가\n",
    "y_test_2 = pd.read_csv('/aiffel/data/y_test.csv')"
   ]
  },
  {
   "cell_type": "code",
   "execution_count": 53,
   "id": "8efd6801",
   "metadata": {},
   "outputs": [
    {
     "data": {
      "text/plain": [
       "((7721, 8), (9779, 1))"
      ]
     },
     "execution_count": 53,
     "metadata": {},
     "output_type": "execute_result"
    }
   ],
   "source": [
    "test_2.shape, y_test_2.shape"
   ]
  },
  {
   "cell_type": "markdown",
   "id": "657a0a58",
   "metadata": {},
   "source": [
    "- test_2의 데이터 값과 y_test의 데이터 수가 다르다는 것을 알 수 있다.\n",
    "  평가를 위해 y_test의 데이터 량을 test와 같이 맞춰준다."
   ]
  },
  {
   "cell_type": "code",
   "execution_count": 54,
   "id": "4ccf64df",
   "metadata": {},
   "outputs": [
    {
     "data": {
      "text/html": [
       "<div>\n",
       "<style scoped>\n",
       "    .dataframe tbody tr th:only-of-type {\n",
       "        vertical-align: middle;\n",
       "    }\n",
       "\n",
       "    .dataframe tbody tr th {\n",
       "        vertical-align: top;\n",
       "    }\n",
       "\n",
       "    .dataframe thead th {\n",
       "        text-align: right;\n",
       "    }\n",
       "</style>\n",
       "<table border=\"1\" class=\"dataframe\">\n",
       "  <thead>\n",
       "    <tr style=\"text-align: right;\">\n",
       "      <th></th>\n",
       "      <th>price</th>\n",
       "    </tr>\n",
       "  </thead>\n",
       "  <tbody>\n",
       "    <tr>\n",
       "      <th>0</th>\n",
       "      <td>80</td>\n",
       "    </tr>\n",
       "    <tr>\n",
       "      <th>1</th>\n",
       "      <td>190</td>\n",
       "    </tr>\n",
       "    <tr>\n",
       "      <th>2</th>\n",
       "      <td>500</td>\n",
       "    </tr>\n",
       "    <tr>\n",
       "      <th>3</th>\n",
       "      <td>129</td>\n",
       "    </tr>\n",
       "    <tr>\n",
       "      <th>4</th>\n",
       "      <td>142</td>\n",
       "    </tr>\n",
       "    <tr>\n",
       "      <th>...</th>\n",
       "      <td>...</td>\n",
       "    </tr>\n",
       "    <tr>\n",
       "      <th>7716</th>\n",
       "      <td>75</td>\n",
       "    </tr>\n",
       "    <tr>\n",
       "      <th>7717</th>\n",
       "      <td>70</td>\n",
       "    </tr>\n",
       "    <tr>\n",
       "      <th>7718</th>\n",
       "      <td>50</td>\n",
       "    </tr>\n",
       "    <tr>\n",
       "      <th>7719</th>\n",
       "      <td>50</td>\n",
       "    </tr>\n",
       "    <tr>\n",
       "      <th>7720</th>\n",
       "      <td>95</td>\n",
       "    </tr>\n",
       "  </tbody>\n",
       "</table>\n",
       "<p>7721 rows × 1 columns</p>\n",
       "</div>"
      ],
      "text/plain": [
       "      price\n",
       "0        80\n",
       "1       190\n",
       "2       500\n",
       "3       129\n",
       "4       142\n",
       "...     ...\n",
       "7716     75\n",
       "7717     70\n",
       "7718     50\n",
       "7719     50\n",
       "7720     95\n",
       "\n",
       "[7721 rows x 1 columns]"
      ]
     },
     "execution_count": 54,
     "metadata": {},
     "output_type": "execute_result"
    }
   ],
   "source": [
    "random_indices = np.random.choice(y_test_2.index, size=2058, replace=False)\n",
    "y_test_2 = y_test_2.drop(random_indices).reset_index(drop = 'True')\n",
    "y_test_2"
   ]
  },
  {
   "cell_type": "markdown",
   "id": "cb2c3aee",
   "metadata": {},
   "source": [
    "- y_test_2의 데이터 행을 랜덤으로 삭제하여 데이터 수를 맞춰주었다."
   ]
  },
  {
   "cell_type": "code",
   "execution_count": 55,
   "id": "5710c620",
   "metadata": {},
   "outputs": [
    {
     "data": {
      "text/plain": [
       "((7721, 8), (7721, 1))"
      ]
     },
     "execution_count": 55,
     "metadata": {},
     "output_type": "execute_result"
    }
   ],
   "source": [
    "test_2.shape, y_test_2.shape"
   ]
  },
  {
   "cell_type": "code",
   "execution_count": 56,
   "id": "030cfca7",
   "metadata": {},
   "outputs": [
    {
     "data": {
      "text/plain": [
       "52689.4939990235"
      ]
     },
     "execution_count": 56,
     "metadata": {},
     "output_type": "execute_result"
    }
   ],
   "source": [
    "# LinearRegression\n",
    "pred = model_LR.predict(test_1)\n",
    "mean_squared_error(y_test_1, pred)"
   ]
  },
  {
   "cell_type": "code",
   "execution_count": 57,
   "id": "71f5dae3",
   "metadata": {},
   "outputs": [
    {
     "data": {
      "text/plain": [
       "52695.614234075445"
      ]
     },
     "execution_count": 57,
     "metadata": {},
     "output_type": "execute_result"
    }
   ],
   "source": [
    "# 릿지 회귀\n",
    "pred = model_R.predict(test_1)\n",
    "mean_squared_error(y_test_1, pred)"
   ]
  },
  {
   "cell_type": "code",
   "execution_count": 58,
   "id": "c0cf9be8",
   "metadata": {},
   "outputs": [
    {
     "data": {
      "text/plain": [
       "53465.62946641143"
      ]
     },
     "execution_count": 58,
     "metadata": {},
     "output_type": "execute_result"
    }
   ],
   "source": [
    "# 라쏘 회귀\n",
    "pred = model_L.predict(test_1)\n",
    "mean_squared_error(y_test_1, pred)"
   ]
  },
  {
   "cell_type": "code",
   "execution_count": 59,
   "id": "8def404b",
   "metadata": {},
   "outputs": [
    {
     "data": {
      "text/plain": [
       "53999.61262383261"
      ]
     },
     "execution_count": 59,
     "metadata": {},
     "output_type": "execute_result"
    }
   ],
   "source": [
    "# 엘라스텍넷 회귀\n",
    "pred = model_EN.predict(test_1)\n",
    "mean_squared_error(y_test_1, pred)"
   ]
  },
  {
   "cell_type": "code",
   "execution_count": 60,
   "id": "d4f4d71c",
   "metadata": {},
   "outputs": [
    {
     "data": {
      "text/plain": [
       "61490.56761933736"
      ]
     },
     "execution_count": 60,
     "metadata": {},
     "output_type": "execute_result"
    }
   ],
   "source": [
    "# 랜덤포레스트\n",
    "pred = model_RFR.predict(test_1)\n",
    "mean_squared_error(y_test_1, pred)"
   ]
  },
  {
   "cell_type": "code",
   "execution_count": 61,
   "id": "5cf8518c",
   "metadata": {},
   "outputs": [
    {
     "data": {
      "text/plain": [
       "92083.42899600203"
      ]
     },
     "execution_count": 61,
     "metadata": {},
     "output_type": "execute_result"
    }
   ],
   "source": [
    "# xgboost\n",
    "pred = model_XGBR.predict(test_1)\n",
    "mean_squared_error(y_test_1, pred)"
   ]
  },
  {
   "cell_type": "markdown",
   "id": "b1c993c4",
   "metadata": {},
   "source": [
    "- last_review와 rivew_per_month의 결측치 행들을 삭제했을 때 train, val로 성능을 보았을 때는 첫 번째보다 더 좋은 결과가 나왔지만 다른 데이터에 대한 성능을 확인해보면 오히려 ast_review와 rivew_per_month의 결측치 행들을 삭제한 데이터의 성능이 더 떨어진다는 것을 알 수 있다."
   ]
  },
  {
   "cell_type": "markdown",
   "id": "a02af5e9",
   "metadata": {},
   "source": [
    "## 7. 결론\n",
    "\n",
    "- 데이터 전처리 부분에서는 컬럼들을 함부로 삭제하는 것은 성능 향상에 좋지 못하다는 것을 알 수 있다. host_name과 name은 맨 처음 예측대로 다른 데이터들에 적용할 때 큰 영향을 주지 않는 정보라고 보여진다.\n",
    "- 위 데이터에서 가장 좋은 성능을 보여준 머신러닝 모델을 XGBoost였다. "
   ]
  },
  {
   "attachments": {
    "Untitled%20%284%29.png": {
     "image/png": "[encoded data removed]"
    }
   },
   "cell_type": "markdown",
   "id": "fb08f825",
   "metadata": {},
   "source": [
    "## 8. 막혔던 부분\n",
    "\n",
    "1. hitmap\n",
    "- 컬럼들의 상관관계를 알 수 있는 그래프를 그리고 싶어서 처음에 산점도로 해야할 지 히트맵을 해야할 지 헤맸던 것 같다. 그래프에 대한 이해가 아직도 덜 되었었구나를 알 수 있었고 히트맵을 만들어보면서 복습이 되어 좋았다.하지만 히트맵으로 얻은 정보를 쓰진 못해서 아쉬움이 남는다. 앞으로 필요한 정보를 찾아내는 능력을 더 길러야겠다. \n",
    "\n",
    "\n",
    "2. 데이터 행을 랜덤으로 삭제하기\n",
    "- 결측치 행들을 삭제해서 데이터량이 맞지 않는 문제가 생겼었다. 데이터를 맞춰줘야 하는 것은 알겠는데 랜덤으로 어떻게 삭제해야 할 지 고민하다가 구글링을 통해 답을 얻게 되었다. 나는 랜덤으로 값들을 삭제하는 작업을 해주었는데, 다음에는 랜덤으로 선택하여 남기는 방법을 사용해도 될 것 같다.\n",
    "\n",
    "3. 오류처리\n",
    "![Untitled%20%284%29.png](attachment:Untitled%20%284%29.png)\n",
    "\n",
    "- y_test_2와 test_2의 데이터 수가 맞지 않아 발생한 오류 였다. 따라서 y_test_2의 데이터 행을 랜덤으로 삭제해 주었다"
   ]
  },
  {
   "attachments": {
    "Untitled%20%285%29.png": {
     "image/png": "[encoded data removed]"
    }
   },
   "cell_type": "markdown",
   "id": "b5d07b44",
   "metadata": {},
   "source": [
    "4. 오류처리 2\n",
    "![Untitled%20%285%29.png](attachment:Untitled%20%285%29.png)\n",
    "- 3번을 처리했더니 이번엔 shape이 달라서 에러가 떴다. 그런데 y_test_2, test_2가 아닌, y_true와 y_pred의 shape이 다른 것이었다.\n",
    "- 위에서 데이터를 삭제하고 인덱스를 재정렬 했더니 전 인덱스가 삭제되지 않아 데이터 컬럼이 두개가 되어서 생긴 문제였다. 인덱스를 drop=’True’로 바꾸어 해결했다."
   ]
  },
  {
   "cell_type": "markdown",
   "id": "624a36e8",
   "metadata": {},
   "source": [
    "## 9. 회고 \n",
    "\n",
    "1. 데이터 전처리 과정에서 name과 host_name, last_review/review_per_month의 관계를 보며 어떻게 할 것인가를 많이 고민했다.name과 host_name의 컬럼이 중요하지 않다고 생각을 해서 이에 대한 결측치가 적음에도 불구하고 해당 컬럼을 삭제하고 리뷰에 대한 결측치가 있는 데이터들은 결측치를 채워주거나 삭제하는 방향으로 진행했다. \n",
    "   그런데 name과 host_name을 삭제한 결과가 모델 학습 과정에서 너무 좋지 않아서 충격이었다. 하지만 예상 외로 학습한 모델을 채점 데이터에 적용해보니 성능이 나쁘지 않게 나왔다.\n",
    "   반대로 last_review/review_per_month의 결측치 행들을 삭제해 준 결과가 학습 모델에서는 좋게 나왔으나 채점 데이터를 적용해보니 아주 안좋게 나왔다.\n",
    "   자신의 데이터로 학습하고 테스트해 본 것과 다른 데이터에 적용하는 것은 별개의 일일 수도 있다는 것을 알게되었다.\n",
    "\n",
    "\n",
    "2. 이상치를 price가 0인것만 지워줬는데 아직 이상치를 찾고 결측치에 대한 전처리를 하는 것이 능숙하지 못한 것 같아 아쉽다. 프로젝트를 시작할 때는 쉽겠다고 생각했는데 막상 해보니 꽤나 막막함을 느꼈다. \n",
    "\n",
    "3. 회귀 모델에 대한 프로젝트였는데, lms로 학습할 때 하는 방법을 받아들이기만 하다가 직접 적용해보니 좀 더 이해가 된 것 같아 좋았다. 또 다시 회귀 모델을 이용한 데이터 분석을 할 때는 좋은 결과를 얻을 수 있도록 해야겠다.\n",
    "\n",
    "4. 다음에는 name,host_name 결측치 해당 행 삭제, last_review/review_per_month 칼럼 삭제의 조합으로도 다시 해 보아야겠다. \n",
    "   last_review/review_per_month의 데이터는 실제로 작성하지 않는 경우가 많아 삭제해주어도 괜찮을 것 같다.\n",
    "   \n",
    "5. 하이퍼 파라미터 튜닝에 대한 결과도 보고 싶었는데 시간이 촉박해서 수행해보지 못해서 너무 아쉽다. 다음에는 하이퍼 파라미터 튜닝을 했을 대와 전처리를 했을 때 어떤 것이 더 성능 향상에 효과적인지 비교해보고 싶다."
   ]
  },
  {
   "cell_type": "markdown",
   "id": "b0966a38",
   "metadata": {},
   "source": [
    "## 10. Reference\n",
    "\n",
    "https://selfimprove39.tistory.com/entry/python-seaborn%EC%9C%BC%EB%A1%9C-HeatMap-%EA%B7%B8%EB%A6%AC%EA%B8%B0-1\n",
    "https://collocationvoca.tistory.com/13\n",
    "https://rfriend.tistory.com/263\n",
    "https://zephyrus1111.tistory.com/49\n",
    "https://rfriend.tistory.com/602\n",
    "https://steadiness-193.tistory.com/252"
   ]
  }
 ],
 "metadata": {
  "kernelspec": {
   "display_name": "Python 3 (ipykernel)",
   "language": "python",
   "name": "python3"
  },
  "language_info": {
   "codemirror_mode": {
    "name": "ipython",
    "version": 3
   },
   "file_extension": ".py",
   "mimetype": "text/x-python",
   "name": "python",
   "nbconvert_exporter": "python",
   "pygments_lexer": "ipython3",
   "version": "3.9.7"
  }
 },
 "nbformat": 4,
 "nbformat_minor": 5
}
