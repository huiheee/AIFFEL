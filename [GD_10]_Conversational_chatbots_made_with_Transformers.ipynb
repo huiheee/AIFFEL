{
  "nbformat": 4,
  "nbformat_minor": 0,
  "metadata": {
    "colab": {
      "provenance": []
    },
    "kernelspec": {
      "name": "python3",
      "display_name": "Python 3"
    },
    "language_info": {
      "name": "python"
    }
  },
  "cells": [
    {
      "cell_type": "markdown",
      "source": [
        "# 트랜스포머로 만드는 대화형 챗봇"
      ],
      "metadata": {
        "id": "Ou_YkEpXb_Wd"
      }
    },
    {
      "cell_type": "code",
      "source": [],
      "metadata": {
        "id": "O7MdeeZBcCoD"
      },
      "execution_count": null,
      "outputs": []
    },
    {
      "cell_type": "markdown",
      "source": [
        "# 프로젝트 : 한국어 데이터로 챗봇 만들기\n",
        "\n",
        "**Rubric**\n",
        "\n",
        "|평가항목|세부사항|\n",
        "|--|--|\n",
        "|1. 한국어 전처리를 통해 학습 데이터셋을 구축하였다.|공백과 특수문자 처리, 토크나이징, 병렬데이터 구축의 과정이 적절히 진행되었다.|\n",
        "2. 트랜스포머 모델을 구현하여 한국어 챗봇 모델 학습을 정상적으로 진행하였다.|구현한 트랜스포머 모델이 한국어 병렬 데이터 학습 시 안정적으로 수렴하였다.|\n",
        "3. 한국어 입력문장에 대해 한국어로 답변하는 함수를 구현하였다.|한국어 입력문장에 맥락에 맞는 한국어로 답변을 리턴하였다.\n",
        "|"
      ],
      "metadata": {
        "id": "RjexNmYhcC-B"
      }
    },
    {
      "cell_type": "markdown",
      "source": [
        "## Step1. 데이터 수집하기"
      ],
      "metadata": {
        "id": "t1Kykmq-cTHP"
      }
    },
    {
      "cell_type": "code",
      "execution_count": null,
      "metadata": {
        "id": "pR4hvw_Db-cH"
      },
      "outputs": [],
      "source": [
        "import tensorflow\n",
        "\n",
        "print(tensorflow.__version__)"
      ]
    },
    {
      "cell_type": "code",
      "source": [],
      "metadata": {
        "id": "x7uliZaecQ8F"
      },
      "execution_count": null,
      "outputs": []
    },
    {
      "cell_type": "markdown",
      "source": [
        "## Step2. 데이터 전처리하기"
      ],
      "metadata": {
        "id": "dhfByp2Qcq2M"
      }
    },
    {
      "cell_type": "code",
      "source": [],
      "metadata": {
        "id": "9jLVZ3I6cQ3L"
      },
      "execution_count": null,
      "outputs": []
    },
    {
      "cell_type": "code",
      "source": [],
      "metadata": {
        "id": "PfcH6_NHcQ0A"
      },
      "execution_count": null,
      "outputs": []
    },
    {
      "cell_type": "markdown",
      "source": [
        "## Step3. SubwordTextEncoder 사용하기"
      ],
      "metadata": {
        "id": "t4xDbJYrcuqn"
      }
    },
    {
      "cell_type": "code",
      "source": [],
      "metadata": {
        "id": "ISEDNfpmcQwq"
      },
      "execution_count": null,
      "outputs": []
    },
    {
      "cell_type": "code",
      "source": [],
      "metadata": {
        "id": "UtESXKZccQso"
      },
      "execution_count": null,
      "outputs": []
    },
    {
      "cell_type": "markdown",
      "source": [
        "## Step 4. 모델 구성하기"
      ],
      "metadata": {
        "id": "ZiSg2hJPddxP"
      }
    },
    {
      "cell_type": "code",
      "source": [],
      "metadata": {
        "id": "okbIloZQdqWq"
      },
      "execution_count": null,
      "outputs": []
    },
    {
      "cell_type": "markdown",
      "source": [
        "## Step 5. 모델 평가하기"
      ],
      "metadata": {
        "id": "AfoieMnWdqjJ"
      }
    },
    {
      "cell_type": "code",
      "source": [],
      "metadata": {
        "id": "sYzeiBqndqT9"
      },
      "execution_count": null,
      "outputs": []
    },
    {
      "cell_type": "code",
      "source": [],
      "metadata": {
        "id": "nPpt1Z8VdxNT"
      },
      "execution_count": null,
      "outputs": []
    },
    {
      "cell_type": "code",
      "source": [],
      "metadata": {
        "id": "IJy-ogKIdxEd"
      },
      "execution_count": null,
      "outputs": []
    },
    {
      "cell_type": "code",
      "source": [],
      "metadata": {
        "id": "ZXWrI_RRdxAP"
      },
      "execution_count": null,
      "outputs": []
    },
    {
      "cell_type": "markdown",
      "source": [
        "## 회고"
      ],
      "metadata": {
        "id": "ln1qdAVmdxo4"
      }
    },
    {
      "cell_type": "markdown",
      "source": [
        "## Reference"
      ],
      "metadata": {
        "id": "dN2ZJEVSdxfi"
      }
    }
  ]
}